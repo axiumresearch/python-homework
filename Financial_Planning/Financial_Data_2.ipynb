{
 "cells": [
  {
   "cell_type": "markdown",
   "id": "c0d6c3d0-e6d9-413d-a9bf-9b6dc48421ed",
   "metadata": {},
   "source": [
    "# Financial Planning"
   ]
  },
  {
   "cell_type": "markdown",
   "id": "6c80cda9-147f-4398-b499-9d608c9d73aa",
   "metadata": {},
   "source": [
    "## Setting up environment"
   ]
  },
  {
   "cell_type": "code",
   "execution_count": 62,
   "id": "d9793fe6-983a-47f0-8426-0ae743c54197",
   "metadata": {},
   "outputs": [],
   "source": [
    "import os\n",
    "import requests\n",
    "import json\n",
    "import pandas as pd\n",
    "from dotenv import load_dotenv\n",
    "import alpaca_trade_api as tradeapi\n",
    "from MCForecastTools import MCSimulation\n",
    "import numpy as np\n",
    "\n",
    "%matplotlib inline"
   ]
  },
  {
   "cell_type": "markdown",
   "id": "39459630-f0df-48bc-83b8-553dd68ad14e",
   "metadata": {},
   "source": [
    "## Collect the crypto data to work"
   ]
  },
  {
   "cell_type": "markdown",
   "id": "82c5aa8d-f889-49fd-99b2-a4d8ca5b1792",
   "metadata": {},
   "source": [
    "#### Current crypto assets on hand"
   ]
  },
  {
   "cell_type": "code",
   "execution_count": 63,
   "id": "71adf2c4-342b-45f0-b29b-edfff4c7d7e9",
   "metadata": {},
   "outputs": [],
   "source": [
    "# My crypto holdings\n",
    "my_btc = 1.2\n",
    "my_eth = 5.3"
   ]
  },
  {
   "cell_type": "markdown",
   "id": "268746c6-086d-4a00-86b8-dd8fee4182a8",
   "metadata": {},
   "source": [
    "#### URLs of current crypto prices to date"
   ]
  },
  {
   "cell_type": "code",
   "execution_count": 64,
   "id": "f017b892-143d-4131-ba28-540cba080075",
   "metadata": {},
   "outputs": [],
   "source": [
    "# Getting crypto data from APIs\n",
    "btc_url = \"https://api.alternative.me/v2/ticker/Bitcoin/?convert=json\"\n",
    "eth_url = \"https://api.alternative.me/v2/ticker/Ethereum/?convert=json\""
   ]
  },
  {
   "cell_type": "markdown",
   "id": "d5a96f72-4aee-4813-b233-0f02d41a271f",
   "metadata": {},
   "source": [
    "#### Gather the prices in the URL data for BTC and ETH"
   ]
  },
  {
   "cell_type": "code",
   "execution_count": 65,
   "id": "0c4e3524-4e83-4002-b04b-8367185fead9",
   "metadata": {},
   "outputs": [],
   "source": [
    "# Retrieving price data with request command\n",
    "btc_response = requests.get(btc_url)\n",
    "eth_response = requests.get(eth_url)\n",
    "\n",
    "#print(btc_response)"
   ]
  },
  {
   "cell_type": "code",
   "execution_count": 66,
   "id": "bb94808e-971d-42a3-980c-7fd82ac2d8fb",
   "metadata": {},
   "outputs": [],
   "source": [
    "# Converting the response to text for better reading\n",
    "btc_data = btc_response.text\n",
    "eth_data = eth_response.text\n",
    "\n",
    "#print(btc_data)\n",
    "#print(eth_data)"
   ]
  },
  {
   "cell_type": "code",
   "execution_count": 67,
   "id": "e4bc7da5-b4a5-41a0-9a5a-7f591d768139",
   "metadata": {},
   "outputs": [],
   "source": [
    "# Parsing the data in order to use it in my code\n",
    "btc_parsed = json.loads(btc_data)\n",
    "eth_parsed = json.loads(eth_data)\n",
    "\n",
    "#print(json.dumps(btc_parsed, indent=4)) ## Called \"pretty read\""
   ]
  },
  {
   "cell_type": "code",
   "execution_count": 68,
   "id": "0fc79d41-37b2-4cae-8f34-a17b79dbbac1",
   "metadata": {},
   "outputs": [],
   "source": [
    "# Retrival of the current price for each crypto\n",
    "btc_price = btc_parsed['data']['1']['quotes']['USD']['price']\n",
    "eth_price = eth_parsed['data']['1027']['quotes']['USD']['price']\n",
    "\n",
    "#print(btc_price)"
   ]
  },
  {
   "cell_type": "markdown",
   "id": "97529b4a-539f-400a-bf12-eb39f9faa52e",
   "metadata": {},
   "source": [
    "#### My assets' value"
   ]
  },
  {
   "cell_type": "code",
   "execution_count": 69,
   "id": "5b5f2317-1872-4101-8504-14c5b3801949",
   "metadata": {},
   "outputs": [],
   "source": [
    "my_btc_value = round(my_btc*btc_price, 2)\n",
    "my_eth_value = round(my_eth*eth_price, 2)\n",
    "\n",
    "#print(my_eth_value)"
   ]
  },
  {
   "cell_type": "code",
   "execution_count": 70,
   "id": "8dfdb73a-bc13-4d4a-ae22-49ea62435e81",
   "metadata": {},
   "outputs": [
    {
     "name": "stdout",
     "output_type": "stream",
     "text": [
      "The current value of your 1.2 BTC is $41542.80\n",
      "The current value of your 5.3 ETH is $12546.90\n"
     ]
    }
   ],
   "source": [
    "print(f\"The current value of your {my_btc} BTC is ${my_btc_value:0.2f}\")\n",
    "print(f\"The current value of your {my_eth} ETH is ${my_eth_value:0.2f}\")"
   ]
  },
  {
   "cell_type": "markdown",
   "id": "25f1e0e3-bdba-4160-aba9-8963ff0a1952",
   "metadata": {},
   "source": [
    "#### Investment data from Alpaca API for SPY (stocks) and AGG (bonds)"
   ]
  },
  {
   "cell_type": "code",
   "execution_count": 71,
   "id": "632c15c5-a316-46e9-b883-5748fe0fcc62",
   "metadata": {},
   "outputs": [],
   "source": [
    "# Assinging variables to my investment data\n",
    "investment_portfolio = ['SPY','AGG']\n",
    "\n",
    "shares = {\n",
    "    'Shares Data': [50,200]\n",
    "}\n",
    "\n",
    "df = pd.DataFrame(shares, index=investment_portfolio)\n",
    "#df.head()"
   ]
  },
  {
   "cell_type": "markdown",
   "id": "d70a6af5-1abc-4c08-bd48-83d1cce656df",
   "metadata": {},
   "source": [
    "## Collecting investment data"
   ]
  },
  {
   "cell_type": "code",
   "execution_count": 72,
   "id": "b09b7c55-5cef-48f6-8433-65610f609e3b",
   "metadata": {},
   "outputs": [
    {
     "data": {
      "text/plain": [
       "True"
      ]
     },
     "execution_count": 72,
     "metadata": {},
     "output_type": "execute_result"
    }
   ],
   "source": [
    "# Checking if the load_dotenv command is True or False\n",
    "load_dotenv()"
   ]
  },
  {
   "cell_type": "code",
   "execution_count": 73,
   "id": "d801339e-dbad-4854-98ab-ce50b8e5500c",
   "metadata": {},
   "outputs": [],
   "source": [
    "# Setting up my API keys to request the data I need\n",
    "alpaca_api_key = os.getenv(\"ALPACA_API_KEY\")\n",
    "alpaca_secret_key = os.getenv(\"ALPACA_SECRET_KEY\")\n",
    "\n",
    "#type(alpaca_api_key)\n",
    "#type(alpaca_secret_key)"
   ]
  },
  {
   "cell_type": "markdown",
   "id": "66ceaf58-080c-438a-8e77-18d877fc9260",
   "metadata": {},
   "source": [
    "### Alpaca API object"
   ]
  },
  {
   "cell_type": "code",
   "execution_count": 74,
   "id": "6fa39bc3-aca2-4eb4-8dfe-4362f1c481a8",
   "metadata": {},
   "outputs": [],
   "source": [
    "# API object to be used for data calling\n",
    "alpaca = tradeapi.REST(\n",
    "    alpaca_api_key,\n",
    "    alpaca_secret_key,\n",
    "    api_version=\"v2\")"
   ]
  },
  {
   "cell_type": "code",
   "execution_count": 75,
   "id": "12755702-b3cf-4b7e-92e6-9390a338e673",
   "metadata": {},
   "outputs": [],
   "source": [
    "# Setting of the time and the format for my data\n",
    "today = pd.Timestamp(\"2021-07-6\", tz=\"America/New_York\").isoformat()"
   ]
  },
  {
   "cell_type": "code",
   "execution_count": 76,
   "id": "1fb2906d-03ad-4ef6-875c-726b0d33c8c6",
   "metadata": {},
   "outputs": [],
   "source": [
    "# Setting the timeframe I want my data to show\n",
    "timeframe = \"1D\""
   ]
  },
  {
   "cell_type": "code",
   "execution_count": 77,
   "id": "c2f94ab0-5dfd-4b12-b763-5c554539dbfa",
   "metadata": {},
   "outputs": [],
   "source": [
    "# Defining my data frame to get the investment data called\n",
    "df = alpaca.get_barset(\n",
    "    investment_portfolio,\n",
    "    timeframe,\n",
    "    start = today,\n",
    "    end = today\n",
    ").df\n",
    "\n",
    "#type(df)\n",
    "#print(df)\n",
    "#df.dtypes"
   ]
  },
  {
   "cell_type": "code",
   "execution_count": 78,
   "id": "0d41ddc8-a2ad-4996-82e3-0f9012adff7b",
   "metadata": {},
   "outputs": [],
   "source": [
    "# Making my index of time readable for me\n",
    "date = df.index\n",
    "date = [x.date().isoformat() for x in date]\n",
    "dt = np.array(date)\n",
    "\n",
    "df['time'] = date\n",
    "df['time'] = pd.to_datetime(df['time'], \n",
    "                                           infer_datetime_format=True)\n",
    "df.set_index('time', inplace=True)\n",
    "\n",
    "#df"
   ]
  },
  {
   "cell_type": "markdown",
   "id": "8c6d2e9f-8620-46cb-9e25-bd1e292accdc",
   "metadata": {},
   "source": [
    "#### Cleaning the data to retrieve only closing price"
   ]
  },
  {
   "cell_type": "code",
   "execution_count": 79,
   "id": "d605e46e-0a29-4501-b3dc-040d640b3089",
   "metadata": {},
   "outputs": [],
   "source": [
    "# Create and empty DataFrame for closing prices\n",
    "df_closing_prices = pd.DataFrame()\n",
    "\n",
    "# Fetch the closing prices for all the tickers\n",
    "for ticker in investment_portfolio:\n",
    "    df_closing_prices[ticker] = df[ticker][\"close\"]\n",
    "\n",
    "# Drop the time component of the date\n",
    "df_closing_prices.index = df_closing_prices.index.date\n",
    "\n",
    "# Display sample data\n",
    "#df_closing_prices.head()"
   ]
  },
  {
   "cell_type": "markdown",
   "id": "0a857db7-90d4-4735-b519-f8bfc228f3f0",
   "metadata": {},
   "source": [
    "#### Printing AGG and SPY prices"
   ]
  },
  {
   "cell_type": "code",
   "execution_count": 80,
   "id": "467a0d0b-b097-4295-a0e3-41dde34f73e3",
   "metadata": {},
   "outputs": [
    {
     "name": "stdout",
     "output_type": "stream",
     "text": [
      "Current AGG closing price: $115.75\n",
      "Current SPY closing price: $432.9\n"
     ]
    }
   ],
   "source": [
    "# Creating my variables to show only close prices for my investment\n",
    "spy_close = df_closing_prices['SPY'].values[0]\n",
    "agg_close = df_closing_prices['AGG'].values[0]\n",
    "\n",
    "print(f\"Current AGG closing price: ${round(agg_close,2)}\")\n",
    "print(f\"Current SPY closing price: ${round(spy_close,2)}\")"
   ]
  },
  {
   "cell_type": "markdown",
   "id": "08415c96-224c-4310-bc56-532ce478095a",
   "metadata": {},
   "source": [
    "#### Investment Portfolio Value"
   ]
  },
  {
   "cell_type": "code",
   "execution_count": 81,
   "id": "c94f560c-80aa-4815-a145-dca98a782c75",
   "metadata": {},
   "outputs": [
    {
     "name": "stdout",
     "output_type": "stream",
     "text": [
      "The current value of your 50 SPY shares is $21645.00\n",
      "The current value of your 200 AGG shares is $23150.00\n"
     ]
    }
   ],
   "source": [
    "# Setting up my portfolio with the actual values I am working with\n",
    "## Calculating my portfolio value\n",
    "my_spy = 50\n",
    "my_agg = 200\n",
    "my_spy_value = (my_spy*spy_close)\n",
    "my_agg_value = (my_agg*agg_close)\n",
    "\n",
    "print(f\"The current value of your {my_spy} SPY shares is ${my_spy_value:0.2f}\")\n",
    "print(f\"The current value of your {my_agg} AGG shares is ${my_agg_value:0.2f}\")"
   ]
  },
  {
   "cell_type": "markdown",
   "id": "9707e943-8e00-4d62-a0f4-44734fa1b36a",
   "metadata": {},
   "source": [
    "## Savings Health Analysis"
   ]
  },
  {
   "cell_type": "code",
   "execution_count": 82,
   "id": "00821498-e24e-4e1a-817e-283d274ce584",
   "metadata": {},
   "outputs": [
    {
     "data": {
      "text/html": [
       "<div>\n",
       "<style scoped>\n",
       "    .dataframe tbody tr th:only-of-type {\n",
       "        vertical-align: middle;\n",
       "    }\n",
       "\n",
       "    .dataframe tbody tr th {\n",
       "        vertical-align: top;\n",
       "    }\n",
       "\n",
       "    .dataframe thead th {\n",
       "        text-align: right;\n",
       "    }\n",
       "</style>\n",
       "<table border=\"1\" class=\"dataframe\">\n",
       "  <thead>\n",
       "    <tr style=\"text-align: right;\">\n",
       "      <th></th>\n",
       "      <th>Amount</th>\n",
       "    </tr>\n",
       "  </thead>\n",
       "  <tbody>\n",
       "    <tr>\n",
       "      <th>Crypto</th>\n",
       "      <td>54089.7</td>\n",
       "    </tr>\n",
       "    <tr>\n",
       "      <th>Shares</th>\n",
       "      <td>44795.0</td>\n",
       "    </tr>\n",
       "  </tbody>\n",
       "</table>\n",
       "</div>"
      ],
      "text/plain": [
       "         Amount\n",
       "Crypto  54089.7\n",
       "Shares  44795.0"
      ]
     },
     "execution_count": 82,
     "metadata": {},
     "output_type": "execute_result"
    }
   ],
   "source": [
    "# Setting variables for my savings analysis\n",
    "## Calculating total crypto holdings and securities holdings\n",
    "my_crypto = my_btc_value+my_eth_value \n",
    "my_shares = my_spy_value+my_agg_value\n",
    "monthly_income = 1200\n",
    "\n",
    "### Setting the dataframe to show the calculated data on a table\n",
    "df_savings = pd.DataFrame(index=range(2),columns=['Amount'])\n",
    "df_savings = pd.DataFrame({\n",
    "    'Amount':[my_crypto,my_shares]\n",
    "})\n",
    "df_savings.rename(index={0:'Crypto',1:'Shares'},inplace=True)\n",
    "\n",
    "df_savings"
   ]
  },
  {
   "cell_type": "markdown",
   "id": "7cbf65a4-a4be-408e-8195-f6756d40a848",
   "metadata": {},
   "source": [
    "##### Plotting savings in Pie Chart"
   ]
  },
  {
   "cell_type": "code",
   "execution_count": 83,
   "id": "e8ba61c3-b965-426f-bf66-488c3e3b51de",
   "metadata": {},
   "outputs": [
    {
     "data": {
      "text/html": [
       "<div>\n",
       "<style scoped>\n",
       "    .dataframe tbody tr th:only-of-type {\n",
       "        vertical-align: middle;\n",
       "    }\n",
       "\n",
       "    .dataframe tbody tr th {\n",
       "        vertical-align: top;\n",
       "    }\n",
       "\n",
       "    .dataframe thead th {\n",
       "        text-align: right;\n",
       "    }\n",
       "</style>\n",
       "<table border=\"1\" class=\"dataframe\">\n",
       "  <thead>\n",
       "    <tr style=\"text-align: right;\">\n",
       "      <th></th>\n",
       "      <th>Amount</th>\n",
       "    </tr>\n",
       "  </thead>\n",
       "  <tbody>\n",
       "    <tr>\n",
       "      <th>Crypto</th>\n",
       "      <td>54089.7</td>\n",
       "    </tr>\n",
       "    <tr>\n",
       "      <th>Shares</th>\n",
       "      <td>44795.0</td>\n",
       "    </tr>\n",
       "  </tbody>\n",
       "</table>\n",
       "</div>"
      ],
      "text/plain": [
       "         Amount\n",
       "Crypto  54089.7\n",
       "Shares  44795.0"
      ]
     },
     "execution_count": 83,
     "metadata": {},
     "output_type": "execute_result"
    },
    {
     "data": {
      "image/png": "[encoded data removed]",
      "text/plain": [
       "<Figure size 432x288 with 1 Axes>"
      ]
     },
     "metadata": {},
     "output_type": "display_data"
    }
   ],
   "source": [
    "# Variables for my pie chart\n",
    "labels = 'Crypto','Shares'\n",
    "colors = ['yellowgreen', 'lightcoral']\n",
    "explode = (0, 0)\n",
    "\n",
    "## Plotting my data in pie chart format\n",
    "df_savings.plot.pie(labels=labels, colors=colors,\n",
    "autopct='%1.1f%%', shadow=True, subplots=True, startangle=140)\n",
    "\n",
    "df_savings"
   ]
  },
  {
   "cell_type": "markdown",
   "id": "b2b52f39-1e6b-4ce2-8385-4e1e94ba4444",
   "metadata": {},
   "source": [
    "##### Setting emergency fund"
   ]
  },
  {
   "cell_type": "code",
   "execution_count": 84,
   "id": "3c875593-43de-4f41-bdb9-be9d3677a60b",
   "metadata": {},
   "outputs": [],
   "source": [
    "emergency_fund = monthly_income*3\n",
    "savings = my_crypto+my_shares-emergency_fund"
   ]
  },
  {
   "cell_type": "markdown",
   "id": "27bf4c80-707d-4fc5-811d-4fdffef2f652",
   "metadata": {},
   "source": [
    "##### Evaluating Savings' Health"
   ]
  },
  {
   "cell_type": "code",
   "execution_count": 85,
   "id": "c6696d88-e4c3-440b-ba25-2dce0ffb72c3",
   "metadata": {},
   "outputs": [
    {
     "name": "stdout",
     "output_type": "stream",
     "text": [
      "Congratulations! You have enough money in your emergency fund.\n"
     ]
    }
   ],
   "source": [
    "savings_health = [savings, emergency_fund]\n",
    "\n",
    "# Loop used to check if savings show enough emergency fund inside of them\n",
    "for savings in savings_health:\n",
    "    if savings>emergency_fund:\n",
    "        print('Congratulations! You have enough money in your emergency fund.')\n",
    "    elif savings<emergency_fund:\n",
    "        print('It is time to focus on savings to create a healthy financial account.')"
   ]
  },
  {
   "cell_type": "markdown",
   "id": "bc8a6140-198e-4a2a-a148-41632cba3e5b",
   "metadata": {},
   "source": [
    "## Retirement Planning"
   ]
  },
  {
   "cell_type": "markdown",
   "id": "0dedfbe4-4f16-44f0-84dd-611bc9d89d3c",
   "metadata": {},
   "source": [
    "### Monte Carlo Simulation to vizualize portfolio planning projection"
   ]
  },
  {
   "cell_type": "code",
   "execution_count": 86,
   "id": "5d2d4ec2-455b-448d-9c7b-6bd059ca544b",
   "metadata": {},
   "outputs": [
    {
     "data": {
      "text/html": [
       "<div>\n",
       "<style scoped>\n",
       "    .dataframe tbody tr th:only-of-type {\n",
       "        vertical-align: middle;\n",
       "    }\n",
       "\n",
       "    .dataframe tbody tr th {\n",
       "        vertical-align: top;\n",
       "    }\n",
       "\n",
       "    .dataframe thead tr th {\n",
       "        text-align: left;\n",
       "    }\n",
       "\n",
       "    .dataframe thead tr:last-of-type th {\n",
       "        text-align: right;\n",
       "    }\n",
       "</style>\n",
       "<table border=\"1\" class=\"dataframe\">\n",
       "  <thead>\n",
       "    <tr>\n",
       "      <th></th>\n",
       "      <th colspan=\"5\" halign=\"left\">AGG</th>\n",
       "      <th colspan=\"5\" halign=\"left\">SPY</th>\n",
       "    </tr>\n",
       "    <tr>\n",
       "      <th></th>\n",
       "      <th>open</th>\n",
       "      <th>high</th>\n",
       "      <th>low</th>\n",
       "      <th>close</th>\n",
       "      <th>volume</th>\n",
       "      <th>open</th>\n",
       "      <th>high</th>\n",
       "      <th>low</th>\n",
       "      <th>close</th>\n",
       "      <th>volume</th>\n",
       "    </tr>\n",
       "    <tr>\n",
       "      <th>time</th>\n",
       "      <th></th>\n",
       "      <th></th>\n",
       "      <th></th>\n",
       "      <th></th>\n",
       "      <th></th>\n",
       "      <th></th>\n",
       "      <th></th>\n",
       "      <th></th>\n",
       "      <th></th>\n",
       "      <th></th>\n",
       "    </tr>\n",
       "  </thead>\n",
       "  <tbody>\n",
       "    <tr>\n",
       "      <th>2021-06-30 00:00:00-04:00</th>\n",
       "      <td>115.36</td>\n",
       "      <td>115.450</td>\n",
       "      <td>115.30</td>\n",
       "      <td>115.350</td>\n",
       "      <td>5984381</td>\n",
       "      <td>427.20</td>\n",
       "      <td>428.78</td>\n",
       "      <td>427.1800</td>\n",
       "      <td>428.08</td>\n",
       "      <td>46776402</td>\n",
       "    </tr>\n",
       "    <tr>\n",
       "      <th>2021-07-01 00:00:00-04:00</th>\n",
       "      <td>115.15</td>\n",
       "      <td>115.190</td>\n",
       "      <td>115.01</td>\n",
       "      <td>115.115</td>\n",
       "      <td>4439326</td>\n",
       "      <td>428.83</td>\n",
       "      <td>430.60</td>\n",
       "      <td>428.8000</td>\n",
       "      <td>430.47</td>\n",
       "      <td>44147835</td>\n",
       "    </tr>\n",
       "    <tr>\n",
       "      <th>2021-07-02 00:00:00-04:00</th>\n",
       "      <td>115.23</td>\n",
       "      <td>115.370</td>\n",
       "      <td>115.17</td>\n",
       "      <td>115.370</td>\n",
       "      <td>4219494</td>\n",
       "      <td>431.67</td>\n",
       "      <td>434.10</td>\n",
       "      <td>430.5218</td>\n",
       "      <td>433.75</td>\n",
       "      <td>46557070</td>\n",
       "    </tr>\n",
       "    <tr>\n",
       "      <th>2021-07-06 00:00:00-04:00</th>\n",
       "      <td>115.51</td>\n",
       "      <td>115.830</td>\n",
       "      <td>115.51</td>\n",
       "      <td>115.750</td>\n",
       "      <td>7213127</td>\n",
       "      <td>433.78</td>\n",
       "      <td>434.01</td>\n",
       "      <td>430.0100</td>\n",
       "      <td>432.90</td>\n",
       "      <td>60410491</td>\n",
       "    </tr>\n",
       "    <tr>\n",
       "      <th>2021-07-07 00:00:00-04:00</th>\n",
       "      <td>115.83</td>\n",
       "      <td>116.015</td>\n",
       "      <td>115.75</td>\n",
       "      <td>115.950</td>\n",
       "      <td>4455288</td>\n",
       "      <td>433.66</td>\n",
       "      <td>434.76</td>\n",
       "      <td>431.5100</td>\n",
       "      <td>434.43</td>\n",
       "      <td>55609308</td>\n",
       "    </tr>\n",
       "  </tbody>\n",
       "</table>\n",
       "</div>"
      ],
      "text/plain": [
       "                              AGG                                        SPY  \\\n",
       "                             open     high     low    close   volume    open   \n",
       "time                                                                           \n",
       "2021-06-30 00:00:00-04:00  115.36  115.450  115.30  115.350  5984381  427.20   \n",
       "2021-07-01 00:00:00-04:00  115.15  115.190  115.01  115.115  4439326  428.83   \n",
       "2021-07-02 00:00:00-04:00  115.23  115.370  115.17  115.370  4219494  431.67   \n",
       "2021-07-06 00:00:00-04:00  115.51  115.830  115.51  115.750  7213127  433.78   \n",
       "2021-07-07 00:00:00-04:00  115.83  116.015  115.75  115.950  4455288  433.66   \n",
       "\n",
       "                                                               \n",
       "                             high       low   close    volume  \n",
       "time                                                           \n",
       "2021-06-30 00:00:00-04:00  428.78  427.1800  428.08  46776402  \n",
       "2021-07-01 00:00:00-04:00  430.60  428.8000  430.47  44147835  \n",
       "2021-07-02 00:00:00-04:00  434.10  430.5218  433.75  46557070  \n",
       "2021-07-06 00:00:00-04:00  434.01  430.0100  432.90  60410491  \n",
       "2021-07-07 00:00:00-04:00  434.76  431.5100  434.43  55609308  "
      ]
     },
     "execution_count": 86,
     "metadata": {},
     "output_type": "execute_result"
    }
   ],
   "source": [
    "# Setting my dates for the Monte Carlo Simulation\n",
    "start_date = pd.Timestamp('2019-07-07', tz='America/New_York').isoformat()\n",
    "#end_date = pd.Timestamp('2021-07-06', tz='America/New_York').isoformat()\n",
    "\n",
    "timeframe='1D'\n",
    "\n",
    "## Creating the dataframe to view my stock data from the API\n",
    "df_stock_data = alpaca.get_barset(\n",
    "    investment_portfolio,\n",
    "    timeframe,\n",
    "    start = start_date,\n",
    "    limit=1000\n",
    ").df\n",
    "\n",
    "### Checking dataframe\n",
    "df_stock_data.tail()"
   ]
  },
  {
   "cell_type": "code",
   "execution_count": 87,
   "id": "45304cdb-c9a7-40e7-9929-530a4c4d92d3",
   "metadata": {},
   "outputs": [],
   "source": [
    "# Setting variable to read 500 simulatons\n",
    "num_sims = 500\n",
    "\n",
    "## Creating the object to show simulation using the MCForecastTools\n",
    "MC_Portfolio = MCSimulation(\n",
    "    portfolio_data = df_stock_data,\n",
    "    weights=[0.60,0.40],\n",
    "    num_simulation = num_sims,\n",
    "    num_trading_days = 252*30\n",
    ")"
   ]
  },
  {
   "cell_type": "code",
   "execution_count": 88,
   "id": "276d336f-0b58-46f9-b8b2-8215c121c8e6",
   "metadata": {},
   "outputs": [
    {
     "name": "stdout",
     "output_type": "stream",
     "text": [
      "Running Monte Carlo simulation number 0.\n",
      "Running Monte Carlo simulation number 10.\n",
      "Running Monte Carlo simulation number 20.\n",
      "Running Monte Carlo simulation number 30.\n",
      "Running Monte Carlo simulation number 40.\n",
      "Running Monte Carlo simulation number 50.\n",
      "Running Monte Carlo simulation number 60.\n",
      "Running Monte Carlo simulation number 70.\n",
      "Running Monte Carlo simulation number 80.\n",
      "Running Monte Carlo simulation number 90.\n",
      "Running Monte Carlo simulation number 100.\n",
      "Running Monte Carlo simulation number 110.\n",
      "Running Monte Carlo simulation number 120.\n",
      "Running Monte Carlo simulation number 130.\n",
      "Running Monte Carlo simulation number 140.\n",
      "Running Monte Carlo simulation number 150.\n",
      "Running Monte Carlo simulation number 160.\n",
      "Running Monte Carlo simulation number 170.\n",
      "Running Monte Carlo simulation number 180.\n",
      "Running Monte Carlo simulation number 190.\n",
      "Running Monte Carlo simulation number 200.\n",
      "Running Monte Carlo simulation number 210.\n",
      "Running Monte Carlo simulation number 220.\n",
      "Running Monte Carlo simulation number 230.\n",
      "Running Monte Carlo simulation number 240.\n",
      "Running Monte Carlo simulation number 250.\n",
      "Running Monte Carlo simulation number 260.\n",
      "Running Monte Carlo simulation number 270.\n",
      "Running Monte Carlo simulation number 280.\n",
      "Running Monte Carlo simulation number 290.\n",
      "Running Monte Carlo simulation number 300.\n",
      "Running Monte Carlo simulation number 310.\n",
      "Running Monte Carlo simulation number 320.\n",
      "Running Monte Carlo simulation number 330.\n",
      "Running Monte Carlo simulation number 340.\n",
      "Running Monte Carlo simulation number 350.\n",
      "Running Monte Carlo simulation number 360.\n",
      "Running Monte Carlo simulation number 370.\n",
      "Running Monte Carlo simulation number 380.\n",
      "Running Monte Carlo simulation number 390.\n",
      "Running Monte Carlo simulation number 400.\n",
      "Running Monte Carlo simulation number 410.\n",
      "Running Monte Carlo simulation number 420.\n",
      "Running Monte Carlo simulation number 430.\n",
      "Running Monte Carlo simulation number 440.\n",
      "Running Monte Carlo simulation number 450.\n",
      "Running Monte Carlo simulation number 460.\n",
      "Running Monte Carlo simulation number 470.\n",
      "Running Monte Carlo simulation number 480.\n",
      "Running Monte Carlo simulation number 490.\n"
     ]
    },
    {
     "data": {
      "text/html": [
       "<div>\n",
       "<style scoped>\n",
       "    .dataframe tbody tr th:only-of-type {\n",
       "        vertical-align: middle;\n",
       "    }\n",
       "\n",
       "    .dataframe tbody tr th {\n",
       "        vertical-align: top;\n",
       "    }\n",
       "\n",
       "    .dataframe thead th {\n",
       "        text-align: right;\n",
       "    }\n",
       "</style>\n",
       "<table border=\"1\" class=\"dataframe\">\n",
       "  <thead>\n",
       "    <tr style=\"text-align: right;\">\n",
       "      <th></th>\n",
       "      <th>0</th>\n",
       "      <th>1</th>\n",
       "      <th>2</th>\n",
       "      <th>3</th>\n",
       "      <th>4</th>\n",
       "      <th>5</th>\n",
       "      <th>6</th>\n",
       "      <th>7</th>\n",
       "      <th>8</th>\n",
       "      <th>9</th>\n",
       "      <th>...</th>\n",
       "      <th>490</th>\n",
       "      <th>491</th>\n",
       "      <th>492</th>\n",
       "      <th>493</th>\n",
       "      <th>494</th>\n",
       "      <th>495</th>\n",
       "      <th>496</th>\n",
       "      <th>497</th>\n",
       "      <th>498</th>\n",
       "      <th>499</th>\n",
       "    </tr>\n",
       "  </thead>\n",
       "  <tbody>\n",
       "    <tr>\n",
       "      <th>0</th>\n",
       "      <td>1.000000</td>\n",
       "      <td>1.000000</td>\n",
       "      <td>1.000000</td>\n",
       "      <td>1.000000</td>\n",
       "      <td>1.000000</td>\n",
       "      <td>1.000000</td>\n",
       "      <td>1.000000</td>\n",
       "      <td>1.000000</td>\n",
       "      <td>1.000000</td>\n",
       "      <td>1.000000</td>\n",
       "      <td>...</td>\n",
       "      <td>1.000000</td>\n",
       "      <td>1.000000</td>\n",
       "      <td>1.000000</td>\n",
       "      <td>1.000000</td>\n",
       "      <td>1.000000</td>\n",
       "      <td>1.000000</td>\n",
       "      <td>1.000000</td>\n",
       "      <td>1.000000</td>\n",
       "      <td>1.000000</td>\n",
       "      <td>1.000000</td>\n",
       "    </tr>\n",
       "    <tr>\n",
       "      <th>1</th>\n",
       "      <td>1.000865</td>\n",
       "      <td>0.995899</td>\n",
       "      <td>0.986772</td>\n",
       "      <td>1.005518</td>\n",
       "      <td>1.000576</td>\n",
       "      <td>1.001088</td>\n",
       "      <td>0.988382</td>\n",
       "      <td>0.989468</td>\n",
       "      <td>1.003136</td>\n",
       "      <td>0.992728</td>\n",
       "      <td>...</td>\n",
       "      <td>1.005632</td>\n",
       "      <td>1.000867</td>\n",
       "      <td>1.007575</td>\n",
       "      <td>1.004680</td>\n",
       "      <td>1.011423</td>\n",
       "      <td>1.004297</td>\n",
       "      <td>1.001686</td>\n",
       "      <td>1.007072</td>\n",
       "      <td>0.988208</td>\n",
       "      <td>0.989846</td>\n",
       "    </tr>\n",
       "    <tr>\n",
       "      <th>2</th>\n",
       "      <td>1.004033</td>\n",
       "      <td>1.006451</td>\n",
       "      <td>0.989282</td>\n",
       "      <td>1.008609</td>\n",
       "      <td>0.998412</td>\n",
       "      <td>1.001035</td>\n",
       "      <td>0.993048</td>\n",
       "      <td>0.988611</td>\n",
       "      <td>1.005892</td>\n",
       "      <td>0.998781</td>\n",
       "      <td>...</td>\n",
       "      <td>1.003661</td>\n",
       "      <td>1.013173</td>\n",
       "      <td>1.011286</td>\n",
       "      <td>1.009735</td>\n",
       "      <td>1.013591</td>\n",
       "      <td>0.999964</td>\n",
       "      <td>1.004048</td>\n",
       "      <td>1.007326</td>\n",
       "      <td>0.981213</td>\n",
       "      <td>0.986873</td>\n",
       "    </tr>\n",
       "    <tr>\n",
       "      <th>3</th>\n",
       "      <td>1.012393</td>\n",
       "      <td>1.011325</td>\n",
       "      <td>0.979885</td>\n",
       "      <td>1.000848</td>\n",
       "      <td>1.003043</td>\n",
       "      <td>1.004691</td>\n",
       "      <td>0.994950</td>\n",
       "      <td>0.988256</td>\n",
       "      <td>0.994964</td>\n",
       "      <td>1.002414</td>\n",
       "      <td>...</td>\n",
       "      <td>0.998646</td>\n",
       "      <td>1.007240</td>\n",
       "      <td>1.002357</td>\n",
       "      <td>1.000084</td>\n",
       "      <td>1.010808</td>\n",
       "      <td>1.007735</td>\n",
       "      <td>1.001559</td>\n",
       "      <td>1.000882</td>\n",
       "      <td>0.982336</td>\n",
       "      <td>0.987735</td>\n",
       "    </tr>\n",
       "    <tr>\n",
       "      <th>4</th>\n",
       "      <td>1.008208</td>\n",
       "      <td>1.017599</td>\n",
       "      <td>0.970237</td>\n",
       "      <td>1.003586</td>\n",
       "      <td>0.993829</td>\n",
       "      <td>0.991974</td>\n",
       "      <td>0.988534</td>\n",
       "      <td>0.984851</td>\n",
       "      <td>1.003492</td>\n",
       "      <td>0.997163</td>\n",
       "      <td>...</td>\n",
       "      <td>1.000543</td>\n",
       "      <td>1.012239</td>\n",
       "      <td>1.004993</td>\n",
       "      <td>0.992693</td>\n",
       "      <td>1.020216</td>\n",
       "      <td>1.018163</td>\n",
       "      <td>1.014496</td>\n",
       "      <td>1.007773</td>\n",
       "      <td>0.975319</td>\n",
       "      <td>1.000606</td>\n",
       "    </tr>\n",
       "    <tr>\n",
       "      <th>...</th>\n",
       "      <td>...</td>\n",
       "      <td>...</td>\n",
       "      <td>...</td>\n",
       "      <td>...</td>\n",
       "      <td>...</td>\n",
       "      <td>...</td>\n",
       "      <td>...</td>\n",
       "      <td>...</td>\n",
       "      <td>...</td>\n",
       "      <td>...</td>\n",
       "      <td>...</td>\n",
       "      <td>...</td>\n",
       "      <td>...</td>\n",
       "      <td>...</td>\n",
       "      <td>...</td>\n",
       "      <td>...</td>\n",
       "      <td>...</td>\n",
       "      <td>...</td>\n",
       "      <td>...</td>\n",
       "      <td>...</td>\n",
       "      <td>...</td>\n",
       "    </tr>\n",
       "    <tr>\n",
       "      <th>7556</th>\n",
       "      <td>15.451515</td>\n",
       "      <td>17.182893</td>\n",
       "      <td>24.145003</td>\n",
       "      <td>32.363992</td>\n",
       "      <td>26.561081</td>\n",
       "      <td>7.140987</td>\n",
       "      <td>11.963534</td>\n",
       "      <td>46.486104</td>\n",
       "      <td>22.109388</td>\n",
       "      <td>7.364546</td>\n",
       "      <td>...</td>\n",
       "      <td>13.570699</td>\n",
       "      <td>24.619391</td>\n",
       "      <td>7.210455</td>\n",
       "      <td>25.685522</td>\n",
       "      <td>26.292222</td>\n",
       "      <td>17.610447</td>\n",
       "      <td>7.597474</td>\n",
       "      <td>21.028651</td>\n",
       "      <td>10.214513</td>\n",
       "      <td>14.752306</td>\n",
       "    </tr>\n",
       "    <tr>\n",
       "      <th>7557</th>\n",
       "      <td>15.339531</td>\n",
       "      <td>17.074992</td>\n",
       "      <td>24.101459</td>\n",
       "      <td>32.521122</td>\n",
       "      <td>26.631780</td>\n",
       "      <td>7.051087</td>\n",
       "      <td>12.159213</td>\n",
       "      <td>46.523464</td>\n",
       "      <td>22.020723</td>\n",
       "      <td>7.301525</td>\n",
       "      <td>...</td>\n",
       "      <td>13.452429</td>\n",
       "      <td>24.730747</td>\n",
       "      <td>7.245213</td>\n",
       "      <td>25.701243</td>\n",
       "      <td>26.415385</td>\n",
       "      <td>17.498079</td>\n",
       "      <td>7.576357</td>\n",
       "      <td>21.017649</td>\n",
       "      <td>10.224890</td>\n",
       "      <td>14.701469</td>\n",
       "    </tr>\n",
       "    <tr>\n",
       "      <th>7558</th>\n",
       "      <td>15.349683</td>\n",
       "      <td>17.040772</td>\n",
       "      <td>23.934036</td>\n",
       "      <td>32.578674</td>\n",
       "      <td>26.953029</td>\n",
       "      <td>7.052697</td>\n",
       "      <td>12.166377</td>\n",
       "      <td>46.235224</td>\n",
       "      <td>22.028657</td>\n",
       "      <td>7.218104</td>\n",
       "      <td>...</td>\n",
       "      <td>13.427021</td>\n",
       "      <td>24.516102</td>\n",
       "      <td>7.273009</td>\n",
       "      <td>25.560448</td>\n",
       "      <td>26.496327</td>\n",
       "      <td>17.579073</td>\n",
       "      <td>7.586046</td>\n",
       "      <td>21.150866</td>\n",
       "      <td>10.158995</td>\n",
       "      <td>14.805770</td>\n",
       "    </tr>\n",
       "    <tr>\n",
       "      <th>7559</th>\n",
       "      <td>15.238591</td>\n",
       "      <td>17.111118</td>\n",
       "      <td>23.917470</td>\n",
       "      <td>32.767687</td>\n",
       "      <td>27.139405</td>\n",
       "      <td>7.036437</td>\n",
       "      <td>12.212148</td>\n",
       "      <td>45.662957</td>\n",
       "      <td>21.938900</td>\n",
       "      <td>7.189939</td>\n",
       "      <td>...</td>\n",
       "      <td>13.389969</td>\n",
       "      <td>24.436962</td>\n",
       "      <td>7.287860</td>\n",
       "      <td>25.318077</td>\n",
       "      <td>26.396587</td>\n",
       "      <td>17.459152</td>\n",
       "      <td>7.537003</td>\n",
       "      <td>21.525493</td>\n",
       "      <td>10.232866</td>\n",
       "      <td>14.844255</td>\n",
       "    </tr>\n",
       "    <tr>\n",
       "      <th>7560</th>\n",
       "      <td>15.090845</td>\n",
       "      <td>17.239364</td>\n",
       "      <td>23.690295</td>\n",
       "      <td>32.900013</td>\n",
       "      <td>27.455143</td>\n",
       "      <td>7.051133</td>\n",
       "      <td>12.272431</td>\n",
       "      <td>45.804246</td>\n",
       "      <td>21.782538</td>\n",
       "      <td>7.234524</td>\n",
       "      <td>...</td>\n",
       "      <td>13.439937</td>\n",
       "      <td>24.358162</td>\n",
       "      <td>7.270243</td>\n",
       "      <td>25.377686</td>\n",
       "      <td>26.336151</td>\n",
       "      <td>17.620456</td>\n",
       "      <td>7.565591</td>\n",
       "      <td>21.518826</td>\n",
       "      <td>10.340065</td>\n",
       "      <td>14.830374</td>\n",
       "    </tr>\n",
       "  </tbody>\n",
       "</table>\n",
       "<p>7561 rows × 500 columns</p>\n",
       "</div>"
      ],
      "text/plain": [
       "            0          1          2          3          4         5    \\\n",
       "0      1.000000   1.000000   1.000000   1.000000   1.000000  1.000000   \n",
       "1      1.000865   0.995899   0.986772   1.005518   1.000576  1.001088   \n",
       "2      1.004033   1.006451   0.989282   1.008609   0.998412  1.001035   \n",
       "3      1.012393   1.011325   0.979885   1.000848   1.003043  1.004691   \n",
       "4      1.008208   1.017599   0.970237   1.003586   0.993829  0.991974   \n",
       "...         ...        ...        ...        ...        ...       ...   \n",
       "7556  15.451515  17.182893  24.145003  32.363992  26.561081  7.140987   \n",
       "7557  15.339531  17.074992  24.101459  32.521122  26.631780  7.051087   \n",
       "7558  15.349683  17.040772  23.934036  32.578674  26.953029  7.052697   \n",
       "7559  15.238591  17.111118  23.917470  32.767687  27.139405  7.036437   \n",
       "7560  15.090845  17.239364  23.690295  32.900013  27.455143  7.051133   \n",
       "\n",
       "            6          7          8         9    ...        490        491  \\\n",
       "0      1.000000   1.000000   1.000000  1.000000  ...   1.000000   1.000000   \n",
       "1      0.988382   0.989468   1.003136  0.992728  ...   1.005632   1.000867   \n",
       "2      0.993048   0.988611   1.005892  0.998781  ...   1.003661   1.013173   \n",
       "3      0.994950   0.988256   0.994964  1.002414  ...   0.998646   1.007240   \n",
       "4      0.988534   0.984851   1.003492  0.997163  ...   1.000543   1.012239   \n",
       "...         ...        ...        ...       ...  ...        ...        ...   \n",
       "7556  11.963534  46.486104  22.109388  7.364546  ...  13.570699  24.619391   \n",
       "7557  12.159213  46.523464  22.020723  7.301525  ...  13.452429  24.730747   \n",
       "7558  12.166377  46.235224  22.028657  7.218104  ...  13.427021  24.516102   \n",
       "7559  12.212148  45.662957  21.938900  7.189939  ...  13.389969  24.436962   \n",
       "7560  12.272431  45.804246  21.782538  7.234524  ...  13.439937  24.358162   \n",
       "\n",
       "           492        493        494        495       496        497  \\\n",
       "0     1.000000   1.000000   1.000000   1.000000  1.000000   1.000000   \n",
       "1     1.007575   1.004680   1.011423   1.004297  1.001686   1.007072   \n",
       "2     1.011286   1.009735   1.013591   0.999964  1.004048   1.007326   \n",
       "3     1.002357   1.000084   1.010808   1.007735  1.001559   1.000882   \n",
       "4     1.004993   0.992693   1.020216   1.018163  1.014496   1.007773   \n",
       "...        ...        ...        ...        ...       ...        ...   \n",
       "7556  7.210455  25.685522  26.292222  17.610447  7.597474  21.028651   \n",
       "7557  7.245213  25.701243  26.415385  17.498079  7.576357  21.017649   \n",
       "7558  7.273009  25.560448  26.496327  17.579073  7.586046  21.150866   \n",
       "7559  7.287860  25.318077  26.396587  17.459152  7.537003  21.525493   \n",
       "7560  7.270243  25.377686  26.336151  17.620456  7.565591  21.518826   \n",
       "\n",
       "            498        499  \n",
       "0      1.000000   1.000000  \n",
       "1      0.988208   0.989846  \n",
       "2      0.981213   0.986873  \n",
       "3      0.982336   0.987735  \n",
       "4      0.975319   1.000606  \n",
       "...         ...        ...  \n",
       "7556  10.214513  14.752306  \n",
       "7557  10.224890  14.701469  \n",
       "7558  10.158995  14.805770  \n",
       "7559  10.232866  14.844255  \n",
       "7560  10.340065  14.830374  \n",
       "\n",
       "[7561 rows x 500 columns]"
      ]
     },
     "execution_count": 88,
     "metadata": {},
     "output_type": "execute_result"
    }
   ],
   "source": [
    "# Activating simulation\n",
    "MC_Portfolio.calc_cumulative_return()"
   ]
  },
  {
   "cell_type": "code",
   "execution_count": 89,
   "id": "e6549390-0ddf-4ff9-b019-f62363efd852",
   "metadata": {},
   "outputs": [],
   "source": [
    "#simulated_returns_data = {\n",
    " #   \"mean\": list(MC_Portfolio.simulated_return.mean(axis=1)),\n",
    "  #  \"median\": list(MC_Portfolio.simulated_return.median(axis=1)),\n",
    "   # \"min\": list(MC_Portfolio.simulated_return.min(axis=1)),\n",
    "    #\"max\": list(MC_Portfolio.simulated_return.max(axis=1))\n",
    "#}\n",
    "\n",
    "#df_simulated_returns = pd.DataFrame(simulated_returns_data)\n",
    "\n",
    "#df_simulated_returns.plot(title=\"Simulated Daily Returns Behavior of Portfolio Over the Next Year\")"
   ]
  },
  {
   "cell_type": "code",
   "execution_count": 95,
   "id": "e09f43f7-f97b-4200-aead-026b1e5da612",
   "metadata": {},
   "outputs": [
    {
     "data": {
      "image/png": "[encoded data removed]",
      "text/plain": [
       "<Figure size 432x288 with 1 Axes>"
      ]
     },
     "metadata": {
      "needs_background": "light"
     },
     "output_type": "display_data"
    }
   ],
   "source": [
    "# Plotting simulation to view dataset in graph\n",
    "simulation = MC_Portfolio.plot_simulation()"
   ]
  },
  {
   "cell_type": "code",
   "execution_count": 91,
   "id": "0cd8b735-3b4e-413a-9762-fec5acc1fdcd",
   "metadata": {},
   "outputs": [
    {
     "data": {
      "image/png": "[encoded data removed]",
      "text/plain": [
       "<Figure size 432x288 with 1 Axes>"
      ]
     },
     "metadata": {
      "needs_background": "light"
     },
     "output_type": "display_data"
    }
   ],
   "source": [
    "# Showing the distribution \n",
    "ditribution = MC_Portfolio.plot_distribution()"
   ]
  },
  {
   "cell_type": "markdown",
   "id": "9fe1fa2e-695b-4c18-8a19-05fff7a2fa25",
   "metadata": {},
   "source": [
    "## Retirement Analysis"
   ]
  },
  {
   "cell_type": "code",
   "execution_count": 92,
   "id": "cf3c983a-6acc-4fa5-90bb-c6c6af57a6cc",
   "metadata": {},
   "outputs": [
    {
     "data": {
      "text/plain": [
       "count           500.000000\n",
       "mean             22.302102\n",
       "std              14.503541\n",
       "min               2.927109\n",
       "25%              12.181891\n",
       "50%              18.758381\n",
       "75%              29.122662\n",
       "max              93.841355\n",
       "95% CI Lower      5.083861\n",
       "95% CI Upper     55.923116\n",
       "Name: 7560, dtype: float64"
      ]
     },
     "execution_count": 92,
     "metadata": {},
     "output_type": "execute_result"
    }
   ],
   "source": [
    "# Fetch the summary statistics from the Monte Carlo simulation results.\n",
    "summary = MC_Portfolio.summarize_cumulative_return()\n",
    "summary"
   ]
  },
  {
   "cell_type": "code",
   "execution_count": 93,
   "id": "b1336ed1-485f-4bd2-8e86-9396dd70bcbe",
   "metadata": {},
   "outputs": [
    {
     "name": "stdout",
     "output_type": "stream",
     "text": [
      "There is a 95% chance that an initial investment of $20000 in the portfolio over the next 30 years will end within in the range of $101677.21 and $1118462.33\n"
     ]
    }
   ],
   "source": [
    "# Given an initial investment of $20,000, \n",
    "#calculate the expected portfolio return in dollars at the 95% lower and upper confidence intervals.\n",
    "initial_investment = 20000\n",
    "low_confidence = round(summary[8]*initial_investment,2)\n",
    "high_confidence = round(summary[9]*initial_investment,2)\n",
    "\n",
    "\n",
    "print(f\"There is a 95% chance that an initial investment of ${initial_investment} in the portfolio\"\n",
    "      f\" over the next 30 years will end within in the range of\"\n",
    "      f\" ${low_confidence} and ${high_confidence}\")"
   ]
  },
  {
   "cell_type": "code",
   "execution_count": 94,
   "id": "5acdf48b-3f0c-4df6-aec7-0d31a264f9c1",
   "metadata": {},
   "outputs": [
    {
     "name": "stdout",
     "output_type": "stream",
     "text": [
      "There is a 95% chance that an initial investment of $30000 in the portfolio over the next 30 years will end within in the range of $152515.82 and $1677693.49\n"
     ]
    }
   ],
   "source": [
    "# Given an initial investment of $20,000, \n",
    "#calculate the expected portfolio return in dollars at the 95% lower and upper confidence intervals.\n",
    "initial_investment = 30000\n",
    "low_confidence = round(summary[8]*initial_investment,2)\n",
    "high_confidence = round(summary[9]*initial_investment,2)\n",
    "\n",
    "\n",
    "print(f\"There is a 95% chance that an initial investment of ${initial_investment} in the portfolio\"\n",
    "      f\" over the next 30 years will end within in the range of\"\n",
    "      f\" ${low_confidence} and ${high_confidence}\")"
   ]
  }
 ],
 "metadata": {
  "kernelspec": {
   "display_name": "Python 3",
   "language": "python",
   "name": "python3"
  },
  "language_info": {
   "codemirror_mode": {
    "name": "ipython",
    "version": 3
   },
   "file_extension": ".py",
   "mimetype": "text/x-python",
   "name": "python",
   "nbconvert_exporter": "python",
   "pygments_lexer": "ipython3",
   "version": "3.8.8"
  }
 },
 "nbformat": 4,
 "nbformat_minor": 5
}
