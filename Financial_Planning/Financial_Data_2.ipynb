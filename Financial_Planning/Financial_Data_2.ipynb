{
 "cells": [
  {
   "cell_type": "markdown",
   "id": "c0d6c3d0-e6d9-413d-a9bf-9b6dc48421ed",
   "metadata": {},
   "source": [
    "# Financial Planning"
   ]
  },
  {
   "cell_type": "markdown",
   "id": "6c80cda9-147f-4398-b499-9d608c9d73aa",
   "metadata": {},
   "source": [
    "## Setting up environment"
   ]
  },
  {
   "cell_type": "code",
   "execution_count": 10,
   "id": "d9793fe6-983a-47f0-8426-0ae743c54197",
   "metadata": {},
   "outputs": [],
   "source": [
    "import os\n",
    "import requests\n",
    "import json\n",
    "import pandas as pd\n",
    "from dotenv import load_dotenv\n",
    "import alpaca_trade_api as tradeapi\n",
    "from MCForecastTools import MCSimulation\n",
    "import numpy as np\n",
    "\n",
    "%matplotlib inline"
   ]
  },
  {
   "cell_type": "markdown",
   "id": "39459630-f0df-48bc-83b8-553dd68ad14e",
   "metadata": {},
   "source": [
    "## Collect the crypto data to work"
   ]
  },
  {
   "cell_type": "markdown",
   "id": "82c5aa8d-f889-49fd-99b2-a4d8ca5b1792",
   "metadata": {},
   "source": [
    "#### Current crypto assets on hand"
   ]
  },
  {
   "cell_type": "code",
   "execution_count": 11,
   "id": "71adf2c4-342b-45f0-b29b-edfff4c7d7e9",
   "metadata": {},
   "outputs": [],
   "source": [
    "# My crypto holdings\n",
    "my_btc = 1.2\n",
    "my_eth = 5.3"
   ]
  },
  {
   "cell_type": "markdown",
   "id": "268746c6-086d-4a00-86b8-dd8fee4182a8",
   "metadata": {},
   "source": [
    "#### URLs of current crypto prices to date"
   ]
  },
  {
   "cell_type": "code",
   "execution_count": 12,
   "id": "f017b892-143d-4131-ba28-540cba080075",
   "metadata": {},
   "outputs": [],
   "source": [
    "# Getting crypto data APIs\n",
    "btc_url = \"https://api.alternative.me/v2/ticker/Bitcoin/?convert=json\"\n",
    "eth_url = \"https://api.alternative.me/v2/ticker/Ethereum/?convert=json\""
   ]
  },
  {
   "cell_type": "markdown",
   "id": "d5a96f72-4aee-4813-b233-0f02d41a271f",
   "metadata": {},
   "source": [
    "#### Gather the prices in the URL data for BTC and ETH"
   ]
  },
  {
   "cell_type": "code",
   "execution_count": 13,
   "id": "0c4e3524-4e83-4002-b04b-8367185fead9",
   "metadata": {},
   "outputs": [],
   "source": [
    "\n",
    "btc_response = requests.get(btc_url)\n",
    "eth_response = requests.get(eth_url)\n",
    "\n",
    "#print(btc_response)"
   ]
  },
  {
   "cell_type": "code",
   "execution_count": 14,
   "id": "bb94808e-971d-42a3-980c-7fd82ac2d8fb",
   "metadata": {},
   "outputs": [],
   "source": [
    "btc_data = btc_response.text\n",
    "eth_data = eth_response.text\n",
    "\n",
    "#print(btc_data)\n",
    "#print(eth_data)"
   ]
  },
  {
   "cell_type": "code",
   "execution_count": 15,
   "id": "e4bc7da5-b4a5-41a0-9a5a-7f591d768139",
   "metadata": {},
   "outputs": [],
   "source": [
    "btc_parsed = json.loads(btc_data)\n",
    "eth_parsed = json.loads(eth_data)\n",
    "\n",
    "#print(json.dumps(btc_parsed, indent=4)) ## Called \"pretty read\""
   ]
  },
  {
   "cell_type": "code",
   "execution_count": 16,
   "id": "0fc79d41-37b2-4cae-8f34-a17b79dbbac1",
   "metadata": {},
   "outputs": [],
   "source": [
    "btc_price = btc_parsed['data']['1']['quotes']['USD']['price']\n",
    "eth_price = eth_parsed['data']['1027']['quotes']['USD']['price']\n",
    "\n",
    "#print(btc_price)"
   ]
  },
  {
   "cell_type": "markdown",
   "id": "97529b4a-539f-400a-bf12-eb39f9faa52e",
   "metadata": {},
   "source": [
    "#### My assets' value"
   ]
  },
  {
   "cell_type": "code",
   "execution_count": 17,
   "id": "5b5f2317-1872-4101-8504-14c5b3801949",
   "metadata": {},
   "outputs": [],
   "source": [
    "my_btc_value = round(my_btc*btc_price, 2)\n",
    "my_eth_value = round(my_eth*eth_price, 2)\n",
    "\n",
    "#print(my_eth_value)"
   ]
  },
  {
   "cell_type": "code",
   "execution_count": 18,
   "id": "8dfdb73a-bc13-4d4a-ae22-49ea62435e81",
   "metadata": {},
   "outputs": [
    {
     "name": "stdout",
     "output_type": "stream",
     "text": [
      "The current value of your 1.2 BTC is $40810.80\n",
      "The current value of your 5.3 ETH is $12197.74\n"
     ]
    }
   ],
   "source": [
    "print(f\"The current value of your {my_btc} BTC is ${my_btc_value:0.2f}\")\n",
    "print(f\"The current value of your {my_eth} ETH is ${my_eth_value:0.2f}\")"
   ]
  },
  {
   "cell_type": "markdown",
   "id": "25f1e0e3-bdba-4160-aba9-8963ff0a1952",
   "metadata": {},
   "source": [
    "#### Investment data from Alpaca API for SPY (stocks) and AGG (bonds)"
   ]
  },
  {
   "cell_type": "code",
   "execution_count": 19,
   "id": "632c15c5-a316-46e9-b883-5748fe0fcc62",
   "metadata": {},
   "outputs": [],
   "source": [
    "investment_portfolio = ['SPY','AGG']\n",
    "\n",
    "shares = {\n",
    "    'Shares Data': [50,200]\n",
    "}\n",
    "\n",
    "df = pd.DataFrame(shares, index=investment_portfolio)\n",
    "#df.head()"
   ]
  },
  {
   "cell_type": "markdown",
   "id": "d70a6af5-1abc-4c08-bd48-83d1cce656df",
   "metadata": {},
   "source": [
    "## Collecting investment data"
   ]
  },
  {
   "cell_type": "code",
   "execution_count": 20,
   "id": "b09b7c55-5cef-48f6-8433-65610f609e3b",
   "metadata": {},
   "outputs": [
    {
     "data": {
      "text/plain": [
       "True"
      ]
     },
     "execution_count": 20,
     "metadata": {},
     "output_type": "execute_result"
    }
   ],
   "source": [
    "load_dotenv()"
   ]
  },
  {
   "cell_type": "code",
   "execution_count": 21,
   "id": "d801339e-dbad-4854-98ab-ce50b8e5500c",
   "metadata": {},
   "outputs": [],
   "source": [
    "alpaca_api_key = os.getenv(\"ALPACA_API_KEY\")\n",
    "alpaca_secret_key = os.getenv(\"ALPACA_SECRET_KEY\")\n",
    "\n",
    "#type(alpaca_api_key)\n",
    "#type(alpaca_secret_key)"
   ]
  },
  {
   "cell_type": "markdown",
   "id": "66ceaf58-080c-438a-8e77-18d877fc9260",
   "metadata": {},
   "source": [
    "### Alpaca API object"
   ]
  },
  {
   "cell_type": "code",
   "execution_count": 22,
   "id": "6fa39bc3-aca2-4eb4-8dfe-4362f1c481a8",
   "metadata": {},
   "outputs": [],
   "source": [
    "alpaca = tradeapi.REST(\n",
    "    alpaca_api_key,\n",
    "    alpaca_secret_key,\n",
    "    api_version=\"v2\")"
   ]
  },
  {
   "cell_type": "code",
   "execution_count": 23,
   "id": "12755702-b3cf-4b7e-92e6-9390a338e673",
   "metadata": {},
   "outputs": [],
   "source": [
    "today = pd.Timestamp(\"2021-07-6\", tz=\"America/New_York\").isoformat()"
   ]
  },
  {
   "cell_type": "code",
   "execution_count": 24,
   "id": "1fb2906d-03ad-4ef6-875c-726b0d33c8c6",
   "metadata": {},
   "outputs": [],
   "source": [
    "timeframe = \"1D\""
   ]
  },
  {
   "cell_type": "code",
   "execution_count": 25,
   "id": "c2f94ab0-5dfd-4b12-b763-5c554539dbfa",
   "metadata": {},
   "outputs": [],
   "source": [
    "df = alpaca.get_barset(\n",
    "    investment_portfolio,\n",
    "    timeframe,\n",
    "    start = today,\n",
    "    end = today\n",
    ").df\n",
    "\n",
    "#type(df)\n",
    "#print(df)\n",
    "#df.dtypes"
   ]
  },
  {
   "cell_type": "code",
   "execution_count": 26,
   "id": "0d41ddc8-a2ad-4996-82e3-0f9012adff7b",
   "metadata": {},
   "outputs": [],
   "source": [
    "date = df.index\n",
    "date = [x.date().isoformat() for x in date]\n",
    "dt = np.array(date)\n",
    "\n",
    "df['time'] = date\n",
    "df['time'] = pd.to_datetime(df['time'], \n",
    "                                           infer_datetime_format=True)\n",
    "df.set_index('time', inplace=True)\n",
    "\n",
    "#df"
   ]
  },
  {
   "cell_type": "markdown",
   "id": "8c6d2e9f-8620-46cb-9e25-bd1e292accdc",
   "metadata": {},
   "source": [
    "#### Cleaning the data to retrieve only closing price"
   ]
  },
  {
   "cell_type": "code",
   "execution_count": 27,
   "id": "d605e46e-0a29-4501-b3dc-040d640b3089",
   "metadata": {},
   "outputs": [],
   "source": [
    "# Create and empty DataFrame for closing prices\n",
    "df_closing_prices = pd.DataFrame()\n",
    "\n",
    "# Fetch the closing prices for all the tickers\n",
    "for ticker in investment_portfolio:\n",
    "    df_closing_prices[ticker] = df[ticker][\"close\"]\n",
    "\n",
    "# Drop the time component of the date\n",
    "df_closing_prices.index = df_closing_prices.index.date\n",
    "\n",
    "# Display sample data\n",
    "#df_closing_prices.head()"
   ]
  },
  {
   "cell_type": "markdown",
   "id": "0a857db7-90d4-4735-b519-f8bfc228f3f0",
   "metadata": {},
   "source": [
    "#### Printing AGG and SPY prices"
   ]
  },
  {
   "cell_type": "code",
   "execution_count": 28,
   "id": "467a0d0b-b097-4295-a0e3-41dde34f73e3",
   "metadata": {},
   "outputs": [
    {
     "name": "stdout",
     "output_type": "stream",
     "text": [
      "Current AGG closing price: $115.75\n",
      "Current SPY closing price: $432.9\n"
     ]
    }
   ],
   "source": [
    "spy_close = df_closing_prices['SPY'].values[0]\n",
    "agg_close = df_closing_prices['AGG'].values[0]\n",
    "\n",
    "print(f\"Current AGG closing price: ${round(agg_close,2)}\")\n",
    "print(f\"Current SPY closing price: ${round(spy_close,2)}\")"
   ]
  },
  {
   "cell_type": "markdown",
   "id": "08415c96-224c-4310-bc56-532ce478095a",
   "metadata": {},
   "source": [
    "#### Investment Portfolio Value"
   ]
  },
  {
   "cell_type": "code",
   "execution_count": 29,
   "id": "c94f560c-80aa-4815-a145-dca98a782c75",
   "metadata": {},
   "outputs": [
    {
     "name": "stdout",
     "output_type": "stream",
     "text": [
      "The current value of your 50 SPY shares is $21645.00\n",
      "The current value of your 200 AGG shares is $23150.00\n"
     ]
    }
   ],
   "source": [
    "my_spy = 50\n",
    "my_agg = 200\n",
    "my_spy_value = (my_spy*spy_close)\n",
    "my_agg_value = (my_agg*agg_close)\n",
    "\n",
    "print(f\"The current value of your {my_spy} SPY shares is ${my_spy_value:0.2f}\")\n",
    "print(f\"The current value of your {my_agg} AGG shares is ${my_agg_value:0.2f}\")"
   ]
  },
  {
   "cell_type": "markdown",
   "id": "9707e943-8e00-4d62-a0f4-44734fa1b36a",
   "metadata": {},
   "source": [
    "## Savings Health Analysis"
   ]
  },
  {
   "cell_type": "code",
   "execution_count": 30,
   "id": "00821498-e24e-4e1a-817e-283d274ce584",
   "metadata": {},
   "outputs": [
    {
     "data": {
      "text/html": [
       "<div>\n",
       "<style scoped>\n",
       "    .dataframe tbody tr th:only-of-type {\n",
       "        vertical-align: middle;\n",
       "    }\n",
       "\n",
       "    .dataframe tbody tr th {\n",
       "        vertical-align: top;\n",
       "    }\n",
       "\n",
       "    .dataframe thead th {\n",
       "        text-align: right;\n",
       "    }\n",
       "</style>\n",
       "<table border=\"1\" class=\"dataframe\">\n",
       "  <thead>\n",
       "    <tr style=\"text-align: right;\">\n",
       "      <th></th>\n",
       "      <th>Amount</th>\n",
       "    </tr>\n",
       "  </thead>\n",
       "  <tbody>\n",
       "    <tr>\n",
       "      <th>Crypto</th>\n",
       "      <td>53008.54</td>\n",
       "    </tr>\n",
       "    <tr>\n",
       "      <th>Shares</th>\n",
       "      <td>44795.00</td>\n",
       "    </tr>\n",
       "  </tbody>\n",
       "</table>\n",
       "</div>"
      ],
      "text/plain": [
       "          Amount\n",
       "Crypto  53008.54\n",
       "Shares  44795.00"
      ]
     },
     "execution_count": 30,
     "metadata": {},
     "output_type": "execute_result"
    }
   ],
   "source": [
    "my_crypto = my_btc_value+my_eth_value \n",
    "my_shares = my_spy_value+my_agg_value\n",
    "monthly_income = 1200\n",
    "\n",
    "df_savings = pd.DataFrame(index=range(2),columns=['Amount'])\n",
    "df_savings = pd.DataFrame({\n",
    "    'Amount':[my_crypto,my_shares]\n",
    "})\n",
    "df_savings.rename(index={0:'Crypto',1:'Shares'},inplace=True)\n",
    "\n",
    "df_savings"
   ]
  },
  {
   "cell_type": "markdown",
   "id": "7cbf65a4-a4be-408e-8195-f6756d40a848",
   "metadata": {},
   "source": [
    "##### Plotting savings in Pie Chart"
   ]
  },
  {
   "cell_type": "code",
   "execution_count": 31,
   "id": "e8ba61c3-b965-426f-bf66-488c3e3b51de",
   "metadata": {},
   "outputs": [
    {
     "data": {
      "text/html": [
       "<div>\n",
       "<style scoped>\n",
       "    .dataframe tbody tr th:only-of-type {\n",
       "        vertical-align: middle;\n",
       "    }\n",
       "\n",
       "    .dataframe tbody tr th {\n",
       "        vertical-align: top;\n",
       "    }\n",
       "\n",
       "    .dataframe thead th {\n",
       "        text-align: right;\n",
       "    }\n",
       "</style>\n",
       "<table border=\"1\" class=\"dataframe\">\n",
       "  <thead>\n",
       "    <tr style=\"text-align: right;\">\n",
       "      <th></th>\n",
       "      <th>Amount</th>\n",
       "    </tr>\n",
       "  </thead>\n",
       "  <tbody>\n",
       "    <tr>\n",
       "      <th>Crypto</th>\n",
       "      <td>53008.54</td>\n",
       "    </tr>\n",
       "    <tr>\n",
       "      <th>Shares</th>\n",
       "      <td>44795.00</td>\n",
       "    </tr>\n",
       "  </tbody>\n",
       "</table>\n",
       "</div>"
      ],
      "text/plain": [
       "          Amount\n",
       "Crypto  53008.54\n",
       "Shares  44795.00"
      ]
     },
     "execution_count": 31,
     "metadata": {},
     "output_type": "execute_result"
    },
    {
     "data": {
      "image/png": "[encoded data removed]",
      "text/plain": [
       "<Figure size 432x288 with 1 Axes>"
      ]
     },
     "metadata": {},
     "output_type": "display_data"
    }
   ],
   "source": [
    "labels = 'Crypto','Shares'\n",
    "colors = ['yellowgreen', 'lightcoral']\n",
    "explode = (0, 0)\n",
    "\n",
    "df_savings.plot.pie(labels=labels, colors=colors,\n",
    "autopct='%1.1f%%', shadow=True, subplots=True, startangle=140)\n",
    "\n",
    "df_savings"
   ]
  },
  {
   "cell_type": "markdown",
   "id": "b2b52f39-1e6b-4ce2-8385-4e1e94ba4444",
   "metadata": {},
   "source": [
    "##### Setting emergency fund"
   ]
  },
  {
   "cell_type": "code",
   "execution_count": 32,
   "id": "3c875593-43de-4f41-bdb9-be9d3677a60b",
   "metadata": {},
   "outputs": [],
   "source": [
    "emergency_fund = monthly_income*3\n",
    "savings = my_crypto+my_shares-emergency_fund"
   ]
  },
  {
   "cell_type": "markdown",
   "id": "27bf4c80-707d-4fc5-811d-4fdffef2f652",
   "metadata": {},
   "source": [
    "##### Evaluating Savings' Health"
   ]
  },
  {
   "cell_type": "code",
   "execution_count": 33,
   "id": "c6696d88-e4c3-440b-ba25-2dce0ffb72c3",
   "metadata": {},
   "outputs": [
    {
     "name": "stdout",
     "output_type": "stream",
     "text": [
      "Congratulations! You have enough money in your emergency fund.\n"
     ]
    }
   ],
   "source": [
    "savings_health = [savings, emergency_fund]\n",
    "\n",
    "for savings in savings_health:\n",
    "    if savings>emergency_fund:\n",
    "        print('Congratulations! You have enough money in your emergency fund.')\n",
    "    elif savings<emergency_fund:\n",
    "        print('It is time to focus on savings to create a healthy financial account.')"
   ]
  },
  {
   "cell_type": "markdown",
   "id": "bc8a6140-198e-4a2a-a148-41632cba3e5b",
   "metadata": {},
   "source": [
    "## Retirement Planning"
   ]
  },
  {
   "cell_type": "markdown",
   "id": "0dedfbe4-4f16-44f0-84dd-611bc9d89d3c",
   "metadata": {},
   "source": [
    "### Monte Carlo Simulation to vizualize portfolio planning projection"
   ]
  },
  {
   "cell_type": "code",
   "execution_count": 40,
   "id": "5d2d4ec2-455b-448d-9c7b-6bd059ca544b",
   "metadata": {},
   "outputs": [
    {
     "data": {
      "text/html": [
       "<div>\n",
       "<style scoped>\n",
       "    .dataframe tbody tr th:only-of-type {\n",
       "        vertical-align: middle;\n",
       "    }\n",
       "\n",
       "    .dataframe tbody tr th {\n",
       "        vertical-align: top;\n",
       "    }\n",
       "\n",
       "    .dataframe thead tr th {\n",
       "        text-align: left;\n",
       "    }\n",
       "\n",
       "    .dataframe thead tr:last-of-type th {\n",
       "        text-align: right;\n",
       "    }\n",
       "</style>\n",
       "<table border=\"1\" class=\"dataframe\">\n",
       "  <thead>\n",
       "    <tr>\n",
       "      <th></th>\n",
       "      <th colspan=\"5\" halign=\"left\">AGG</th>\n",
       "      <th colspan=\"5\" halign=\"left\">SPY</th>\n",
       "    </tr>\n",
       "    <tr>\n",
       "      <th></th>\n",
       "      <th>open</th>\n",
       "      <th>high</th>\n",
       "      <th>low</th>\n",
       "      <th>close</th>\n",
       "      <th>volume</th>\n",
       "      <th>open</th>\n",
       "      <th>high</th>\n",
       "      <th>low</th>\n",
       "      <th>close</th>\n",
       "      <th>volume</th>\n",
       "    </tr>\n",
       "    <tr>\n",
       "      <th>time</th>\n",
       "      <th></th>\n",
       "      <th></th>\n",
       "      <th></th>\n",
       "      <th></th>\n",
       "      <th></th>\n",
       "      <th></th>\n",
       "      <th></th>\n",
       "      <th></th>\n",
       "      <th></th>\n",
       "      <th></th>\n",
       "    </tr>\n",
       "  </thead>\n",
       "  <tbody>\n",
       "    <tr>\n",
       "      <th>2021-06-29 00:00:00-04:00</th>\n",
       "      <td>115.06</td>\n",
       "      <td>115.25</td>\n",
       "      <td>115.045</td>\n",
       "      <td>115.250</td>\n",
       "      <td>3469405</td>\n",
       "      <td>427.89</td>\n",
       "      <td>428.56</td>\n",
       "      <td>427.1300</td>\n",
       "      <td>427.68</td>\n",
       "      <td>32097572</td>\n",
       "    </tr>\n",
       "    <tr>\n",
       "      <th>2021-06-30 00:00:00-04:00</th>\n",
       "      <td>115.36</td>\n",
       "      <td>115.45</td>\n",
       "      <td>115.300</td>\n",
       "      <td>115.350</td>\n",
       "      <td>5984381</td>\n",
       "      <td>427.20</td>\n",
       "      <td>428.78</td>\n",
       "      <td>427.1800</td>\n",
       "      <td>428.08</td>\n",
       "      <td>46776402</td>\n",
       "    </tr>\n",
       "    <tr>\n",
       "      <th>2021-07-01 00:00:00-04:00</th>\n",
       "      <td>115.15</td>\n",
       "      <td>115.19</td>\n",
       "      <td>115.010</td>\n",
       "      <td>115.115</td>\n",
       "      <td>4439326</td>\n",
       "      <td>428.83</td>\n",
       "      <td>430.60</td>\n",
       "      <td>428.8000</td>\n",
       "      <td>430.47</td>\n",
       "      <td>44147835</td>\n",
       "    </tr>\n",
       "    <tr>\n",
       "      <th>2021-07-02 00:00:00-04:00</th>\n",
       "      <td>115.23</td>\n",
       "      <td>115.37</td>\n",
       "      <td>115.170</td>\n",
       "      <td>115.370</td>\n",
       "      <td>4219494</td>\n",
       "      <td>431.67</td>\n",
       "      <td>434.10</td>\n",
       "      <td>430.5218</td>\n",
       "      <td>433.75</td>\n",
       "      <td>46557070</td>\n",
       "    </tr>\n",
       "    <tr>\n",
       "      <th>2021-07-06 00:00:00-04:00</th>\n",
       "      <td>115.51</td>\n",
       "      <td>115.83</td>\n",
       "      <td>115.510</td>\n",
       "      <td>115.750</td>\n",
       "      <td>7213127</td>\n",
       "      <td>433.78</td>\n",
       "      <td>434.01</td>\n",
       "      <td>430.0100</td>\n",
       "      <td>432.90</td>\n",
       "      <td>60410491</td>\n",
       "    </tr>\n",
       "  </tbody>\n",
       "</table>\n",
       "</div>"
      ],
      "text/plain": [
       "                              AGG                                        SPY  \\\n",
       "                             open    high      low    close   volume    open   \n",
       "time                                                                           \n",
       "2021-06-29 00:00:00-04:00  115.06  115.25  115.045  115.250  3469405  427.89   \n",
       "2021-06-30 00:00:00-04:00  115.36  115.45  115.300  115.350  5984381  427.20   \n",
       "2021-07-01 00:00:00-04:00  115.15  115.19  115.010  115.115  4439326  428.83   \n",
       "2021-07-02 00:00:00-04:00  115.23  115.37  115.170  115.370  4219494  431.67   \n",
       "2021-07-06 00:00:00-04:00  115.51  115.83  115.510  115.750  7213127  433.78   \n",
       "\n",
       "                                                               \n",
       "                             high       low   close    volume  \n",
       "time                                                           \n",
       "2021-06-29 00:00:00-04:00  428.56  427.1300  427.68  32097572  \n",
       "2021-06-30 00:00:00-04:00  428.78  427.1800  428.08  46776402  \n",
       "2021-07-01 00:00:00-04:00  430.60  428.8000  430.47  44147835  \n",
       "2021-07-02 00:00:00-04:00  434.10  430.5218  433.75  46557070  \n",
       "2021-07-06 00:00:00-04:00  434.01  430.0100  432.90  60410491  "
      ]
     },
     "execution_count": 40,
     "metadata": {},
     "output_type": "execute_result"
    }
   ],
   "source": [
    "start_date = pd.Timestamp('2019-07-07', tz='America/New_York').isoformat()\n",
    "#end_date = pd.Timestamp('2021-07-06', tz='America/New_York').isoformat()\n",
    "\n",
    "timeframe='1D'\n",
    "\n",
    "df_stock_data = alpaca.get_barset(\n",
    "    investment_portfolio,\n",
    "    timeframe,\n",
    "    start = start_date,\n",
    "    limit=1000\n",
    ").df\n",
    "\n",
    "df_stock_data.tail()"
   ]
  },
  {
   "cell_type": "code",
   "execution_count": 45,
   "id": "45304cdb-c9a7-40e7-9929-530a4c4d92d3",
   "metadata": {},
   "outputs": [],
   "source": [
    "num_sims = 100\n",
    "\n",
    "MC_Portfolio = MCSimulation(\n",
    "    portfolio_data = df_stock_data,\n",
    "    weights=[0.60,0.40],\n",
    "    num_simulation = num_sims,\n",
    "    num_trading_days = 252*30\n",
    ")"
   ]
  },
  {
   "cell_type": "code",
   "execution_count": 46,
   "id": "276d336f-0b58-46f9-b8b2-8215c121c8e6",
   "metadata": {},
   "outputs": [
    {
     "name": "stdout",
     "output_type": "stream",
     "text": [
      "Running Monte Carlo simulation number 0.\n",
      "Running Monte Carlo simulation number 10.\n",
      "Running Monte Carlo simulation number 20.\n",
      "Running Monte Carlo simulation number 30.\n",
      "Running Monte Carlo simulation number 40.\n",
      "Running Monte Carlo simulation number 50.\n",
      "Running Monte Carlo simulation number 60.\n",
      "Running Monte Carlo simulation number 70.\n",
      "Running Monte Carlo simulation number 80.\n",
      "Running Monte Carlo simulation number 90.\n"
     ]
    },
    {
     "data": {
      "text/html": [
       "<div>\n",
       "<style scoped>\n",
       "    .dataframe tbody tr th:only-of-type {\n",
       "        vertical-align: middle;\n",
       "    }\n",
       "\n",
       "    .dataframe tbody tr th {\n",
       "        vertical-align: top;\n",
       "    }\n",
       "\n",
       "    .dataframe thead th {\n",
       "        text-align: right;\n",
       "    }\n",
       "</style>\n",
       "<table border=\"1\" class=\"dataframe\">\n",
       "  <thead>\n",
       "    <tr style=\"text-align: right;\">\n",
       "      <th></th>\n",
       "      <th>0</th>\n",
       "      <th>1</th>\n",
       "      <th>2</th>\n",
       "      <th>3</th>\n",
       "      <th>4</th>\n",
       "      <th>5</th>\n",
       "      <th>6</th>\n",
       "      <th>7</th>\n",
       "      <th>8</th>\n",
       "      <th>9</th>\n",
       "      <th>...</th>\n",
       "      <th>90</th>\n",
       "      <th>91</th>\n",
       "      <th>92</th>\n",
       "      <th>93</th>\n",
       "      <th>94</th>\n",
       "      <th>95</th>\n",
       "      <th>96</th>\n",
       "      <th>97</th>\n",
       "      <th>98</th>\n",
       "      <th>99</th>\n",
       "    </tr>\n",
       "  </thead>\n",
       "  <tbody>\n",
       "    <tr>\n",
       "      <th>0</th>\n",
       "      <td>1.000000</td>\n",
       "      <td>1.000000</td>\n",
       "      <td>1.000000</td>\n",
       "      <td>1.000000</td>\n",
       "      <td>1.000000</td>\n",
       "      <td>1.000000</td>\n",
       "      <td>1.000000</td>\n",
       "      <td>1.000000</td>\n",
       "      <td>1.000000</td>\n",
       "      <td>1.000000</td>\n",
       "      <td>...</td>\n",
       "      <td>1.000000</td>\n",
       "      <td>1.000000</td>\n",
       "      <td>1.000000</td>\n",
       "      <td>1.000000</td>\n",
       "      <td>1.000000</td>\n",
       "      <td>1.000000</td>\n",
       "      <td>1.000000</td>\n",
       "      <td>1.000000</td>\n",
       "      <td>1.000000</td>\n",
       "      <td>1.000000</td>\n",
       "    </tr>\n",
       "    <tr>\n",
       "      <th>1</th>\n",
       "      <td>0.991933</td>\n",
       "      <td>1.000180</td>\n",
       "      <td>1.000255</td>\n",
       "      <td>0.995022</td>\n",
       "      <td>0.998153</td>\n",
       "      <td>0.994079</td>\n",
       "      <td>1.004249</td>\n",
       "      <td>0.987089</td>\n",
       "      <td>0.987299</td>\n",
       "      <td>0.991913</td>\n",
       "      <td>...</td>\n",
       "      <td>0.993652</td>\n",
       "      <td>1.004998</td>\n",
       "      <td>1.004309</td>\n",
       "      <td>1.009457</td>\n",
       "      <td>0.989666</td>\n",
       "      <td>0.997017</td>\n",
       "      <td>0.992202</td>\n",
       "      <td>1.010471</td>\n",
       "      <td>0.992651</td>\n",
       "      <td>1.003186</td>\n",
       "    </tr>\n",
       "    <tr>\n",
       "      <th>2</th>\n",
       "      <td>0.997723</td>\n",
       "      <td>1.002908</td>\n",
       "      <td>0.995465</td>\n",
       "      <td>0.995446</td>\n",
       "      <td>1.007231</td>\n",
       "      <td>0.986257</td>\n",
       "      <td>1.004799</td>\n",
       "      <td>0.983980</td>\n",
       "      <td>0.981801</td>\n",
       "      <td>0.986965</td>\n",
       "      <td>...</td>\n",
       "      <td>0.996223</td>\n",
       "      <td>1.002656</td>\n",
       "      <td>1.009628</td>\n",
       "      <td>1.016286</td>\n",
       "      <td>0.991084</td>\n",
       "      <td>0.992990</td>\n",
       "      <td>0.983458</td>\n",
       "      <td>1.005019</td>\n",
       "      <td>0.988749</td>\n",
       "      <td>1.002448</td>\n",
       "    </tr>\n",
       "    <tr>\n",
       "      <th>3</th>\n",
       "      <td>0.996758</td>\n",
       "      <td>0.996829</td>\n",
       "      <td>0.986677</td>\n",
       "      <td>0.988928</td>\n",
       "      <td>1.015397</td>\n",
       "      <td>0.979433</td>\n",
       "      <td>1.007537</td>\n",
       "      <td>0.982003</td>\n",
       "      <td>0.978660</td>\n",
       "      <td>0.991887</td>\n",
       "      <td>...</td>\n",
       "      <td>1.001885</td>\n",
       "      <td>1.019236</td>\n",
       "      <td>1.003258</td>\n",
       "      <td>1.017121</td>\n",
       "      <td>0.988927</td>\n",
       "      <td>0.987172</td>\n",
       "      <td>0.973639</td>\n",
       "      <td>1.012107</td>\n",
       "      <td>0.990149</td>\n",
       "      <td>1.010805</td>\n",
       "    </tr>\n",
       "    <tr>\n",
       "      <th>4</th>\n",
       "      <td>0.995453</td>\n",
       "      <td>0.990590</td>\n",
       "      <td>0.969000</td>\n",
       "      <td>0.986541</td>\n",
       "      <td>1.012541</td>\n",
       "      <td>0.976569</td>\n",
       "      <td>1.004703</td>\n",
       "      <td>0.987106</td>\n",
       "      <td>0.979452</td>\n",
       "      <td>0.987820</td>\n",
       "      <td>...</td>\n",
       "      <td>1.009647</td>\n",
       "      <td>1.012005</td>\n",
       "      <td>0.997233</td>\n",
       "      <td>1.019158</td>\n",
       "      <td>0.991078</td>\n",
       "      <td>0.987935</td>\n",
       "      <td>0.976050</td>\n",
       "      <td>1.023590</td>\n",
       "      <td>0.982614</td>\n",
       "      <td>1.012619</td>\n",
       "    </tr>\n",
       "    <tr>\n",
       "      <th>...</th>\n",
       "      <td>...</td>\n",
       "      <td>...</td>\n",
       "      <td>...</td>\n",
       "      <td>...</td>\n",
       "      <td>...</td>\n",
       "      <td>...</td>\n",
       "      <td>...</td>\n",
       "      <td>...</td>\n",
       "      <td>...</td>\n",
       "      <td>...</td>\n",
       "      <td>...</td>\n",
       "      <td>...</td>\n",
       "      <td>...</td>\n",
       "      <td>...</td>\n",
       "      <td>...</td>\n",
       "      <td>...</td>\n",
       "      <td>...</td>\n",
       "      <td>...</td>\n",
       "      <td>...</td>\n",
       "      <td>...</td>\n",
       "      <td>...</td>\n",
       "    </tr>\n",
       "    <tr>\n",
       "      <th>7556</th>\n",
       "      <td>14.922687</td>\n",
       "      <td>25.218745</td>\n",
       "      <td>31.182806</td>\n",
       "      <td>11.839958</td>\n",
       "      <td>23.552581</td>\n",
       "      <td>5.847377</td>\n",
       "      <td>8.764180</td>\n",
       "      <td>15.018538</td>\n",
       "      <td>14.558456</td>\n",
       "      <td>10.071690</td>\n",
       "      <td>...</td>\n",
       "      <td>13.005201</td>\n",
       "      <td>9.684358</td>\n",
       "      <td>14.283902</td>\n",
       "      <td>16.202866</td>\n",
       "      <td>8.965569</td>\n",
       "      <td>18.948419</td>\n",
       "      <td>20.200426</td>\n",
       "      <td>19.499534</td>\n",
       "      <td>8.095468</td>\n",
       "      <td>12.099600</td>\n",
       "    </tr>\n",
       "    <tr>\n",
       "      <th>7557</th>\n",
       "      <td>14.979376</td>\n",
       "      <td>25.154785</td>\n",
       "      <td>31.315396</td>\n",
       "      <td>11.818121</td>\n",
       "      <td>23.730723</td>\n",
       "      <td>5.858808</td>\n",
       "      <td>8.740727</td>\n",
       "      <td>14.974567</td>\n",
       "      <td>14.533795</td>\n",
       "      <td>10.196282</td>\n",
       "      <td>...</td>\n",
       "      <td>13.032328</td>\n",
       "      <td>9.789472</td>\n",
       "      <td>14.445323</td>\n",
       "      <td>16.321729</td>\n",
       "      <td>8.977993</td>\n",
       "      <td>19.068461</td>\n",
       "      <td>20.365883</td>\n",
       "      <td>19.508909</td>\n",
       "      <td>8.211028</td>\n",
       "      <td>12.122051</td>\n",
       "    </tr>\n",
       "    <tr>\n",
       "      <th>7558</th>\n",
       "      <td>14.939635</td>\n",
       "      <td>25.020481</td>\n",
       "      <td>31.427737</td>\n",
       "      <td>11.723094</td>\n",
       "      <td>23.737619</td>\n",
       "      <td>5.810409</td>\n",
       "      <td>8.886487</td>\n",
       "      <td>14.982354</td>\n",
       "      <td>14.511110</td>\n",
       "      <td>10.128387</td>\n",
       "      <td>...</td>\n",
       "      <td>13.172029</td>\n",
       "      <td>9.905197</td>\n",
       "      <td>14.611662</td>\n",
       "      <td>16.443125</td>\n",
       "      <td>8.943789</td>\n",
       "      <td>19.046557</td>\n",
       "      <td>20.383894</td>\n",
       "      <td>19.795587</td>\n",
       "      <td>8.230891</td>\n",
       "      <td>12.070840</td>\n",
       "    </tr>\n",
       "    <tr>\n",
       "      <th>7559</th>\n",
       "      <td>15.097575</td>\n",
       "      <td>25.282425</td>\n",
       "      <td>31.554363</td>\n",
       "      <td>11.867009</td>\n",
       "      <td>23.819590</td>\n",
       "      <td>5.820754</td>\n",
       "      <td>8.907388</td>\n",
       "      <td>14.945279</td>\n",
       "      <td>14.514271</td>\n",
       "      <td>10.126673</td>\n",
       "      <td>...</td>\n",
       "      <td>13.022886</td>\n",
       "      <td>9.905593</td>\n",
       "      <td>14.548292</td>\n",
       "      <td>16.540038</td>\n",
       "      <td>8.938023</td>\n",
       "      <td>19.169128</td>\n",
       "      <td>20.301925</td>\n",
       "      <td>19.799705</td>\n",
       "      <td>8.195048</td>\n",
       "      <td>12.094452</td>\n",
       "    </tr>\n",
       "    <tr>\n",
       "      <th>7560</th>\n",
       "      <td>15.006792</td>\n",
       "      <td>25.109975</td>\n",
       "      <td>31.552284</td>\n",
       "      <td>12.013808</td>\n",
       "      <td>23.698823</td>\n",
       "      <td>5.838810</td>\n",
       "      <td>8.904825</td>\n",
       "      <td>15.073723</td>\n",
       "      <td>14.626604</td>\n",
       "      <td>10.210729</td>\n",
       "      <td>...</td>\n",
       "      <td>12.842331</td>\n",
       "      <td>9.796433</td>\n",
       "      <td>14.572939</td>\n",
       "      <td>16.702367</td>\n",
       "      <td>9.009180</td>\n",
       "      <td>19.300202</td>\n",
       "      <td>20.572791</td>\n",
       "      <td>19.994532</td>\n",
       "      <td>8.205983</td>\n",
       "      <td>12.135389</td>\n",
       "    </tr>\n",
       "  </tbody>\n",
       "</table>\n",
       "<p>7561 rows × 100 columns</p>\n",
       "</div>"
      ],
      "text/plain": [
       "             0          1          2          3          4         5   \\\n",
       "0      1.000000   1.000000   1.000000   1.000000   1.000000  1.000000   \n",
       "1      0.991933   1.000180   1.000255   0.995022   0.998153  0.994079   \n",
       "2      0.997723   1.002908   0.995465   0.995446   1.007231  0.986257   \n",
       "3      0.996758   0.996829   0.986677   0.988928   1.015397  0.979433   \n",
       "4      0.995453   0.990590   0.969000   0.986541   1.012541  0.976569   \n",
       "...         ...        ...        ...        ...        ...       ...   \n",
       "7556  14.922687  25.218745  31.182806  11.839958  23.552581  5.847377   \n",
       "7557  14.979376  25.154785  31.315396  11.818121  23.730723  5.858808   \n",
       "7558  14.939635  25.020481  31.427737  11.723094  23.737619  5.810409   \n",
       "7559  15.097575  25.282425  31.554363  11.867009  23.819590  5.820754   \n",
       "7560  15.006792  25.109975  31.552284  12.013808  23.698823  5.838810   \n",
       "\n",
       "            6          7          8          9   ...         90        91  \\\n",
       "0     1.000000   1.000000   1.000000   1.000000  ...   1.000000  1.000000   \n",
       "1     1.004249   0.987089   0.987299   0.991913  ...   0.993652  1.004998   \n",
       "2     1.004799   0.983980   0.981801   0.986965  ...   0.996223  1.002656   \n",
       "3     1.007537   0.982003   0.978660   0.991887  ...   1.001885  1.019236   \n",
       "4     1.004703   0.987106   0.979452   0.987820  ...   1.009647  1.012005   \n",
       "...        ...        ...        ...        ...  ...        ...       ...   \n",
       "7556  8.764180  15.018538  14.558456  10.071690  ...  13.005201  9.684358   \n",
       "7557  8.740727  14.974567  14.533795  10.196282  ...  13.032328  9.789472   \n",
       "7558  8.886487  14.982354  14.511110  10.128387  ...  13.172029  9.905197   \n",
       "7559  8.907388  14.945279  14.514271  10.126673  ...  13.022886  9.905593   \n",
       "7560  8.904825  15.073723  14.626604  10.210729  ...  12.842331  9.796433   \n",
       "\n",
       "             92         93        94         95         96         97  \\\n",
       "0      1.000000   1.000000  1.000000   1.000000   1.000000   1.000000   \n",
       "1      1.004309   1.009457  0.989666   0.997017   0.992202   1.010471   \n",
       "2      1.009628   1.016286  0.991084   0.992990   0.983458   1.005019   \n",
       "3      1.003258   1.017121  0.988927   0.987172   0.973639   1.012107   \n",
       "4      0.997233   1.019158  0.991078   0.987935   0.976050   1.023590   \n",
       "...         ...        ...       ...        ...        ...        ...   \n",
       "7556  14.283902  16.202866  8.965569  18.948419  20.200426  19.499534   \n",
       "7557  14.445323  16.321729  8.977993  19.068461  20.365883  19.508909   \n",
       "7558  14.611662  16.443125  8.943789  19.046557  20.383894  19.795587   \n",
       "7559  14.548292  16.540038  8.938023  19.169128  20.301925  19.799705   \n",
       "7560  14.572939  16.702367  9.009180  19.300202  20.572791  19.994532   \n",
       "\n",
       "            98         99  \n",
       "0     1.000000   1.000000  \n",
       "1     0.992651   1.003186  \n",
       "2     0.988749   1.002448  \n",
       "3     0.990149   1.010805  \n",
       "4     0.982614   1.012619  \n",
       "...        ...        ...  \n",
       "7556  8.095468  12.099600  \n",
       "7557  8.211028  12.122051  \n",
       "7558  8.230891  12.070840  \n",
       "7559  8.195048  12.094452  \n",
       "7560  8.205983  12.135389  \n",
       "\n",
       "[7561 rows x 100 columns]"
      ]
     },
     "execution_count": 46,
     "metadata": {},
     "output_type": "execute_result"
    }
   ],
   "source": [
    "MC_Portfolio.calc_cumulative_return()"
   ]
  },
  {
   "cell_type": "code",
   "execution_count": 47,
   "id": "e6549390-0ddf-4ff9-b019-f62363efd852",
   "metadata": {},
   "outputs": [],
   "source": [
    "#simulated_returns_data = {\n",
    " #   \"mean\": list(MC_Portfolio.simulated_return.mean(axis=1)),\n",
    "  #  \"median\": list(MC_Portfolio.simulated_return.median(axis=1)),\n",
    "   # \"min\": list(MC_Portfolio.simulated_return.min(axis=1)),\n",
    "    #\"max\": list(MC_Portfolio.simulated_return.max(axis=1))\n",
    "#}\n",
    "\n",
    "#df_simulated_returns = pd.DataFrame(simulated_returns_data)\n",
    "\n",
    "#df_simulated_returns.plot(title=\"Simulated Daily Returns Behavior of Portfolio Over the Next Year\")"
   ]
  },
  {
   "cell_type": "code",
   "execution_count": 49,
   "id": "e09f43f7-f97b-4200-aead-026b1e5da612",
   "metadata": {},
   "outputs": [
    {
     "data": {
      "image/png": "[encoded data removed]",
      "text/plain": [
       "<Figure size 432x288 with 1 Axes>"
      ]
     },
     "metadata": {
      "needs_background": "light"
     },
     "output_type": "display_data"
    }
   ],
   "source": [
    "simulation = MC_Portfolio.plot_simulation()"
   ]
  },
  {
   "cell_type": "code",
   "execution_count": 50,
   "id": "0cd8b735-3b4e-413a-9762-fec5acc1fdcd",
   "metadata": {},
   "outputs": [
    {
     "data": {
      "image/png": "[encoded data removed]",
      "text/plain": [
       "<Figure size 432x288 with 1 Axes>"
      ]
     },
     "metadata": {
      "needs_background": "light"
     },
     "output_type": "display_data"
    }
   ],
   "source": [
    "ditribution = MC_Portfolio.plot_distribution()"
   ]
  },
  {
   "cell_type": "markdown",
   "id": "9fe1fa2e-695b-4c18-8a19-05fff7a2fa25",
   "metadata": {},
   "source": [
    "## Retirement Analysis"
   ]
  },
  {
   "cell_type": "code",
   "execution_count": 55,
   "id": "cf3c983a-6acc-4fa5-90bb-c6c6af57a6cc",
   "metadata": {},
   "outputs": [
    {
     "data": {
      "text/plain": [
       "count           100.000000\n",
       "mean             21.881306\n",
       "std              18.211970\n",
       "min               2.736355\n",
       "25%              11.147181\n",
       "50%              16.449717\n",
       "75%              25.934545\n",
       "max             121.110541\n",
       "95% CI Lower      6.008848\n",
       "95% CI Upper     64.114904\n",
       "Name: 7560, dtype: float64"
      ]
     },
     "execution_count": 55,
     "metadata": {},
     "output_type": "execute_result"
    }
   ],
   "source": [
    "# Fetch the summary statistics from the Monte Carlo simulation results.\n",
    "summary = MC_Portfolio.summarize_cumulative_return()\n",
    "summary"
   ]
  },
  {
   "cell_type": "code",
   "execution_count": 60,
   "id": "b1336ed1-485f-4bd2-8e86-9396dd70bcbe",
   "metadata": {},
   "outputs": [
    {
     "name": "stdout",
     "output_type": "stream",
     "text": [
      "There is a 95% chance that an initial investment of $20000 in the portfolio over the next 30 years will end within in the range of $120176.96 and $1282298.09\n"
     ]
    }
   ],
   "source": [
    "# Given an initial investment of $20,000, \n",
    "#calculate the expected portfolio return in dollars at the 95% lower and upper confidence intervals.\n",
    "initial_investment = 20000\n",
    "low_confidence = round(summary[8]*initial_investment,2)\n",
    "high_confidence = round(summary[9]*initial_investment,2)\n",
    "\n",
    "\n",
    "print(f\"There is a 95% chance that an initial investment of ${initial_investment} in the portfolio\"\n",
    "      f\" over the next 30 years will end within in the range of\"\n",
    "      f\" ${low_confidence} and ${high_confidence}\")"
   ]
  },
  {
   "cell_type": "code",
   "execution_count": 61,
   "id": "5acdf48b-3f0c-4df6-aec7-0d31a264f9c1",
   "metadata": {},
   "outputs": [
    {
     "name": "stdout",
     "output_type": "stream",
     "text": [
      "There is a 95% chance that an initial investment of $30000 in the portfolio over the next 30 years will end within in the range of $180265.44 and $1923447.13\n"
     ]
    }
   ],
   "source": [
    "# Given an initial investment of $20,000, \n",
    "#calculate the expected portfolio return in dollars at the 95% lower and upper confidence intervals.\n",
    "initial_investment = 30000\n",
    "low_confidence = round(summary[8]*initial_investment,2)\n",
    "high_confidence = round(summary[9]*initial_investment,2)\n",
    "\n",
    "\n",
    "print(f\"There is a 95% chance that an initial investment of ${initial_investment} in the portfolio\"\n",
    "      f\" over the next 30 years will end within in the range of\"\n",
    "      f\" ${low_confidence} and ${high_confidence}\")"
   ]
  },
  {
   "cell_type": "code",
   "execution_count": null,
   "id": "59cd4f5b-23e5-4c54-9c9e-31f43918161a",
   "metadata": {},
   "outputs": [],
   "source": []
  }
 ],
 "metadata": {
  "kernelspec": {
   "display_name": "Python 3",
   "language": "python",
   "name": "python3"
  },
  "language_info": {
   "codemirror_mode": {
    "name": "ipython",
    "version": 3
   },
   "file_extension": ".py",
   "mimetype": "text/x-python",
   "name": "python",
   "nbconvert_exporter": "python",
   "pygments_lexer": "ipython3",
   "version": "3.8.8"
  }
 },
 "nbformat": 4,
 "nbformat_minor": 5
}
