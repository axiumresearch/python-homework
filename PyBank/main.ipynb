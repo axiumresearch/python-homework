{
 "cells": [
  {
   "cell_type": "code",
   "execution_count": 1,
   "id": "81ceb8ec-7065-4354-8dac-bb5adc635846",
   "metadata": {},
   "outputs": [],
   "source": [
    "# Setting up the environment to work\n",
    "\n",
    "import os\n",
    "import csv"
   ]
  },
  {
   "cell_type": "code",
   "execution_count": 2,
   "id": "7fbe25c1-09cb-42b0-80b9-5c72002507b4",
   "metadata": {},
   "outputs": [],
   "source": [
    "from pathlib import Path"
   ]
  },
  {
   "cell_type": "code",
   "execution_count": 3,
   "id": "0a323a2d-8afa-4264-bce5-4392a6979939",
   "metadata": {},
   "outputs": [
    {
     "data": {
      "text/plain": [
       "PosixPath('/Users/jesussaenz/Desktop/UM_FinTech/python-homework/PyBank')"
      ]
     },
     "execution_count": 3,
     "metadata": {},
     "output_type": "execute_result"
    }
   ],
   "source": [
    "# Checking current working directory\n",
    "\n",
    "Path.cwd()"
   ]
  },
  {
   "cell_type": "code",
   "execution_count": 4,
   "id": "73c19046-5e87-4a2d-83c3-a18cf31812bb",
   "metadata": {},
   "outputs": [],
   "source": [
    "budget_data_path = Path('HW_Data.csv')"
   ]
  },
  {
   "cell_type": "code",
   "execution_count": 5,
   "id": "286adda3-c486-4725-8c4b-b52fd33f7cc0",
   "metadata": {},
   "outputs": [],
   "source": [
    "date_list = []\n",
    "profit_loss_list = []"
   ]
  },
  {
   "cell_type": "code",
   "execution_count": 6,
   "id": "47ccae95-5b1e-4aea-97a4-e9f6a2b9bf3f",
   "metadata": {},
   "outputs": [
    {
     "name": "stdout",
     "output_type": "stream",
     "text": [
      "Date: week_2_Week2_HW_PyBank_budget_data (1) - Profit/Loss: $\n",
      "Date: Date - Profit/Loss: $Profit/Losses\n",
      "Date: Jan-2010 - Profit/Loss: $867884\n",
      "Date: Feb-2010 - Profit/Loss: $984655\n",
      "Date: Mar-2010 - Profit/Loss: $322013\n",
      "Date: Apr-2010 - Profit/Loss: $-69417\n",
      "Date: May-2010 - Profit/Loss: $310503\n",
      "Date: Jun-2010 - Profit/Loss: $522857\n",
      "Date: Jul-2010 - Profit/Loss: $1033096\n",
      "Date: Aug-2010 - Profit/Loss: $604885\n",
      "Date: Sep-2010 - Profit/Loss: $-216386\n",
      "Date: Oct-2010 - Profit/Loss: $477532\n",
      "Date: Nov-2010 - Profit/Loss: $893810\n",
      "Date: Dec-2010 - Profit/Loss: $-80353\n",
      "Date: Jan-2011 - Profit/Loss: $779806\n",
      "Date: Feb-2011 - Profit/Loss: $-335203\n",
      "Date: Mar-2011 - Profit/Loss: $697845\n",
      "Date: Apr-2011 - Profit/Loss: $793163\n",
      "Date: May-2011 - Profit/Loss: $485070\n",
      "Date: Jun-2011 - Profit/Loss: $584122\n",
      "Date: Jul-2011 - Profit/Loss: $62729\n",
      "Date: Aug-2011 - Profit/Loss: $668179\n",
      "Date: Sep-2011 - Profit/Loss: $899906\n",
      "Date: Oct-2011 - Profit/Loss: $834719\n",
      "Date: Nov-2011 - Profit/Loss: $132003\n",
      "Date: Dec-2011 - Profit/Loss: $309978\n",
      "Date: Jan-2012 - Profit/Loss: $-755566\n",
      "Date: Feb-2012 - Profit/Loss: $1170593\n",
      "Date: Mar-2012 - Profit/Loss: $252788\n",
      "Date: Apr-2012 - Profit/Loss: $1151518\n",
      "Date: May-2012 - Profit/Loss: $817256\n",
      "Date: Jun-2012 - Profit/Loss: $570757\n",
      "Date: Jul-2012 - Profit/Loss: $506702\n",
      "Date: Aug-2012 - Profit/Loss: $-1022534\n",
      "Date: Sep-2012 - Profit/Loss: $475062\n",
      "Date: Oct-2012 - Profit/Loss: $779976\n",
      "Date: Nov-2012 - Profit/Loss: $144175\n",
      "Date: Dec-2012 - Profit/Loss: $542494\n",
      "Date: Jan-2013 - Profit/Loss: $359333\n",
      "Date: Feb-2013 - Profit/Loss: $321469\n",
      "Date: Mar-2013 - Profit/Loss: $67780\n",
      "Date: Apr-2013 - Profit/Loss: $471435\n",
      "Date: May-2013 - Profit/Loss: $565603\n",
      "Date: Jun-2013 - Profit/Loss: $872480\n",
      "Date: Jul-2013 - Profit/Loss: $789480\n",
      "Date: Aug-2013 - Profit/Loss: $999942\n",
      "Date: Sep-2013 - Profit/Loss: $-1196225\n",
      "Date: Oct-2013 - Profit/Loss: $268997\n",
      "Date: Nov-2013 - Profit/Loss: $-687986\n",
      "Date: Dec-2013 - Profit/Loss: $1150461\n",
      "Date: Jan-2014 - Profit/Loss: $682458\n",
      "Date: Feb-2014 - Profit/Loss: $617856\n",
      "Date: Mar-2014 - Profit/Loss: $824098\n",
      "Date: Apr-2014 - Profit/Loss: $581943\n",
      "Date: May-2014 - Profit/Loss: $132864\n",
      "Date: Jun-2014 - Profit/Loss: $448062\n",
      "Date: Jul-2014 - Profit/Loss: $689161\n",
      "Date: Aug-2014 - Profit/Loss: $800701\n",
      "Date: Sep-2014 - Profit/Loss: $1166643\n",
      "Date: Oct-2014 - Profit/Loss: $947333\n",
      "Date: Nov-2014 - Profit/Loss: $578668\n",
      "Date: Dec-2014 - Profit/Loss: $988505\n",
      "Date: Jan-2015 - Profit/Loss: $1139715\n",
      "Date: Feb-2015 - Profit/Loss: $1029471\n",
      "Date: Mar-2015 - Profit/Loss: $687533\n",
      "Date: Apr-2015 - Profit/Loss: $-524626\n",
      "Date: May-2015 - Profit/Loss: $158620\n",
      "Date: Jun-2015 - Profit/Loss: $87795\n",
      "Date: Jul-2015 - Profit/Loss: $423389\n",
      "Date: Aug-2015 - Profit/Loss: $840723\n",
      "Date: Sep-2015 - Profit/Loss: $568529\n",
      "Date: Oct-2015 - Profit/Loss: $332067\n",
      "Date: Nov-2015 - Profit/Loss: $989499\n",
      "Date: Dec-2015 - Profit/Loss: $778237\n",
      "Date: Jan-2016 - Profit/Loss: $650000\n",
      "Date: Feb-2016 - Profit/Loss: $-1100387\n",
      "Date: Mar-2016 - Profit/Loss: $-174946\n",
      "Date: Apr-2016 - Profit/Loss: $757143\n",
      "Date: May-2016 - Profit/Loss: $445709\n",
      "Date: Jun-2016 - Profit/Loss: $712961\n",
      "Date: Jul-2016 - Profit/Loss: $-1163797\n",
      "Date: Aug-2016 - Profit/Loss: $569899\n",
      "Date: Sep-2016 - Profit/Loss: $768450\n",
      "Date: Oct-2016 - Profit/Loss: $102685\n",
      "Date: Nov-2016 - Profit/Loss: $795914\n",
      "Date: Dec-2016 - Profit/Loss: $60988\n",
      "Date: Jan-2017 - Profit/Loss: $138230\n",
      "Date: Feb-2017 - Profit/Loss: $671099\n"
     ]
    }
   ],
   "source": [
    "# Importing data csv file\n",
    "\n",
    "with open (budget_data_path, 'r') as budget_data_file:\n",
    "    csv_reader = csv.reader(budget_data_file, delimiter = ',')\n",
    "    header = next(csv_reader)\n",
    "    \n",
    "    for line in csv_reader:\n",
    "        date = line[0]\n",
    "        day_to_day_profit_loss = line[1]\n",
    "        \n",
    "        date_list.append(date)\n",
    "        profit_loss_list.append(day_to_day_profit_loss)\n",
    "        \n",
    "        print(f\"Date: {date} - Profit/Loss: ${day_to_day_profit_loss}\")"
   ]
  },
  {
   "cell_type": "code",
   "execution_count": 7,
   "id": "b0947365-6126-48ae-b3e5-05441e5183a1",
   "metadata": {},
   "outputs": [],
   "source": [
    "# Create a dictionary of the data\n",
    "\n",
    "budget_data_dict = dict(zip(date_list, profit_loss_list))\n",
    "\n"
   ]
  },
  {
   "cell_type": "code",
   "execution_count": 30,
   "id": "b68236a1-3b95-405f-9d11-9f0e6b7d660f",
   "metadata": {},
   "outputs": [
    {
     "name": "stdout",
     "output_type": "stream",
     "text": [
      "\"Financial Analysis\n",
      "----------------------\n",
      "Total Months:  88\n",
      "Total: $ 37711479\n",
      "The Greatest Increase in Profits:  Sep-2016 $ 1170593\n",
      "The Greatest Decrease in Profits:  Apr-2010 $ -1196225\n",
      "Average Change:  $ 443664.46\n"
     ]
    }
   ],
   "source": [
    "# Results\n",
    "\n",
    "def total_number_months(date_list):\n",
    "    len(date_list)\n",
    "    \n",
    "    print('Total Months: ', len(date_list))\n",
    "    \n",
    "\n",
    "def net_cashflow(profit_loss_list):\n",
    "    profit_loss_list = list(map(int, profit_loss_list[2:-1]))\n",
    "    net_cashflow = sum(profit_loss_list)\n",
    "    \n",
    "    print('Total: $', net_cashflow)\n",
    "\n",
    "\n",
    "def max_min(date_list, profit_loss_list):\n",
    "    profit_loss_list = list(map(int, profit_loss_list[2:-1]))\n",
    "    date_list = date_list[2:-1]\n",
    "    \n",
    "    min_date = min(date_list)\n",
    "    max_date = max(date_list)\n",
    "    \n",
    "    min_cashflow = min(profit_loss_list)\n",
    "    max_cashflow = max(profit_loss_list)\n",
    "    \n",
    "    print('The Greatest Increase in Profits: ', max_date, '$', max_cashflow)\n",
    "    print('The Greatest Decrease in Profits: ', min_date, '$', min_cashflow)\n",
    "\n",
    "\n",
    "def average_change(profit_loss_list):\n",
    "    \n",
    "    profit_loss_list = list(map(int, profit_loss_list[2:-1]))\n",
    "    \n",
    "    import numpy as np\n",
    "    average_change = np.mean(profit_loss_list)\n",
    "    \n",
    "    print('Average Change: ','$', average_change.round(2))\n",
    "\n",
    "print(\"\"\"\"Financial Analysis\n",
    "----------------------\"\"\")\n",
    "total_number_months(date_list)\n",
    "net_cashflow(profit_loss_list)\n",
    "max_min(date_list, profit_loss_list)\n",
    "average_change(profit_loss_list)"
   ]
  }
 ],
 "metadata": {
  "kernelspec": {
   "display_name": "Python 3",
   "language": "python",
   "name": "python3"
  },
  "language_info": {
   "codemirror_mode": {
    "name": "ipython",
    "version": 3
   },
   "file_extension": ".py",
   "mimetype": "text/x-python",
   "name": "python",
   "nbconvert_exporter": "python",
   "pygments_lexer": "ipython3",
   "version": "3.8.8"
  }
 },
 "nbformat": 4,
 "nbformat_minor": 5
}
